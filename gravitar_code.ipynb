{
  "nbformat": 4,
  "nbformat_minor": 0,
  "metadata": {
    "accelerator": "GPU",
    "colab": {
      "name": "gravitar-code.ipynb",
      "provenance": [],
      "collapsed_sections": []
    },
    "kernelspec": {
      "display_name": "Python 3",
      "name": "python3"
    }
  },
  "cells": [
    {
      "cell_type": "code",
      "metadata": {
        "id": "McDwoTqVEn7Y"
      },
      "source": [
        "# this is a Deep Q Learning (DQN) agent including replay memory and a target network \n",
        "# you can write a brief 8-10 line abstract detailing your submission and experiments here\n",
        "# the code is based on https://github.com/seungeunrho/minimalRL/blob/master/dqn.py, which is released under the MIT licesne\n",
        "# make sure you reference any code you have studied as above, with one comment line per reference\n",
        "# Code makes use of parts of: https://github.com/openai/baselines/blob/master/baselines/common/atari_wrappers.py\n",
        "# Code makes use of parts of: https://github.com/openai/baselines/blob/master/baselines/deepq/replay_buffer.py\n",
        "# Code makes use of parts of: https://github.com/higgsfield/RL-Adventure/blob/master/7.rainbow%20dqn.ipynb\n",
        "# Code makes use of parts of: https://github.com/higgsfield/RL-Adventure/blob/master/common/replay_buffer.py\n",
        "# Code makes use of parts of: https://github.com/higgsfield/RL-Adventure/blob/master/common/layers.py\n",
        "# Code makes use of parts of: https://github.com/higgsfield/RL-Adventure/blob/master/common/wrappers.py\n",
        "'''\n",
        "Use of dueling to reduce overestimation in action value function. Expected action value accross all actions from a given state should be zero. If action values are overestimated, expected value will be > 0.\n",
        "This will naturally temper overestimation when formulated as in dueling.  Replacement of epsilon greedy with noisy linear layers such that extent of\n",
        "exploration can be learnt. I implemented this from scratch through reading the paper, however, due to bugs had to reference the \n",
        "rl-adventure implementation, hence some similarities. Prioritised replay buffer to ensure that network is trained most on those experinces that have proven to be\n",
        "most beneficial. Limited memory on colab has meant it must be much smaller than specified in paper, considerably less effective. Use of distributional rl where by seek to approximate the\n",
        "distribution of returns for each action with a multinomial categorical distribution, increases the stability of training. \n",
        "\n",
        "Please also note I have run my model over several seperate sessions i.e one after the other due to time outs. I increased the number of videos recorded and scores printed in the most recent run.\n",
        "'''\n",
        "\n",
        "import math, random\n",
        "import gym\n",
        "import numpy as np\n",
        "import torch\n",
        "import torch.nn as nn\n",
        "import torch.optim as optim\n",
        "import torch.autograd as autograd \n",
        "import torch.nn.functional as F\n",
        "import operator\n",
        "import collections\n",
        "import matplotlib.pyplot as plt\n",
        "import cv2\n",
        "cv2.ocl.setUseOpenCL(False)\n",
        "\n",
        "from IPython.display import clear_output\n",
        "from torch.autograd import Variable\n",
        "from collections import deque\n",
        "from gym import spaces\n",
        "%matplotlib inline\n",
        "\n",
        "class SegmentTree(object):\n",
        "    def __init__(self, capacity, operation, neutral_element):\n",
        "        assert capacity > 0 and capacity & (capacity - 1) == 0, \"capacity must be positive and a power of 2.\"\n",
        "        self._capacity = capacity\n",
        "        self._value = [neutral_element for _ in range(2 * capacity)]\n",
        "        self._operation = operation\n",
        "\n",
        "    def _reduce_helper(self, start, end, node, node_start, node_end):\n",
        "        if start == node_start and end == node_end:\n",
        "            return self._value[node]\n",
        "        mid = (node_start + node_end) // 2\n",
        "        if end <= mid:\n",
        "            return self._reduce_helper(start, end, 2 * node, node_start, mid)\n",
        "        else:\n",
        "            if mid + 1 <= start:\n",
        "                return self._reduce_helper(start, end, 2 * node + 1, mid + 1, node_end)\n",
        "            else:\n",
        "                return self._operation(\n",
        "                    self._reduce_helper(start, mid, 2 * node, node_start, mid),\n",
        "                    self._reduce_helper(mid + 1, end, 2 * node + 1, mid + 1, node_end)\n",
        "                )\n",
        "\n",
        "    def reduce(self, start=0, end=None):\n",
        "        if end is None:\n",
        "            end = self._capacity\n",
        "        if end < 0:\n",
        "            end += self._capacity\n",
        "        end -= 1\n",
        "        return self._reduce_helper(start, end, 1, 0, self._capacity - 1)\n",
        "\n",
        "    def __setitem__(self, idx, val):\n",
        "        idx += self._capacity\n",
        "        self._value[idx] = val\n",
        "        idx //= 2\n",
        "        while idx >= 1:\n",
        "            self._value[idx] = self._operation(\n",
        "                self._value[2 * idx],\n",
        "                self._value[2 * idx + 1]\n",
        "            )\n",
        "            idx //= 2\n",
        "\n",
        "    def __getitem__(self, idx):\n",
        "        assert 0 <= idx < self._capacity\n",
        "        return self._value[self._capacity + idx]\n",
        "\n",
        "\n",
        "class SumSegmentTree(SegmentTree):\n",
        "    def __init__(self, capacity):\n",
        "        super(SumSegmentTree, self).__init__(\n",
        "            capacity=capacity,\n",
        "            operation=operator.add,\n",
        "            neutral_element=0.0\n",
        "        )\n",
        "\n",
        "    def sum(self, start=0, end=None):\n",
        "        return super(SumSegmentTree, self).reduce(start, end)\n",
        "\n",
        "    def find_prefixsum_idx(self, prefixsum):\n",
        "        assert 0 <= prefixsum <= self.sum() + 1e-5\n",
        "        idx = 1\n",
        "        while idx < self._capacity:  # while non-leaf\n",
        "            if self._value[2 * idx] > prefixsum:\n",
        "                idx = 2 * idx\n",
        "            else:\n",
        "                prefixsum -= self._value[2 * idx]\n",
        "                idx = 2 * idx + 1\n",
        "        return idx - self._capacity\n",
        "\n",
        "\n",
        "class MinSegmentTree(SegmentTree):\n",
        "    def __init__(self, capacity):\n",
        "        super(MinSegmentTree, self).__init__(\n",
        "            capacity=capacity,\n",
        "            operation=min,\n",
        "            neutral_element=float('inf')\n",
        "        )\n",
        "\n",
        "    def min(self, start=0, end=None):\n",
        "        return super(MinSegmentTree, self).reduce(start, end)\n",
        "\n",
        "\n",
        "class ReplayBuffer(object):\n",
        "    def __init__(self, size):\n",
        "        self._storage = []\n",
        "        self._maxsize = size\n",
        "        self._next_idx = 0\n",
        "\n",
        "    def __len__(self):\n",
        "        return len(self._storage)\n",
        "\n",
        "    def push(self, state, action, reward, next_state, done):\n",
        "        data = (state, action, reward, next_state, done)\n",
        "\n",
        "        if self._next_idx >= len(self._storage):\n",
        "            self._storage.append(data)\n",
        "        else:\n",
        "            self._storage[self._next_idx] = data\n",
        "        self._next_idx = (self._next_idx + 1) % self._maxsize\n",
        "\n",
        "    def _encode_sample(self, idxes):\n",
        "        obses_t, actions, rewards, obses_tp1, dones = [], [], [], [], []\n",
        "        for i in idxes:\n",
        "            data = self._storage[i]\n",
        "            obs_t, action, reward, obs_tp1, done = data\n",
        "            obses_t.append(np.array(obs_t, copy=False))\n",
        "            actions.append(np.array(action, copy=False))\n",
        "            rewards.append(reward)\n",
        "            obses_tp1.append(np.array(obs_tp1, copy=False))\n",
        "            dones.append(done)\n",
        "        return np.array(obses_t), np.array(actions), np.array(rewards), np.array(obses_tp1), np.array(dones)\n",
        "\n",
        "    def sample(self, batch_size):\n",
        "        idxes = [random.randint(0, len(self._storage) - 1) for _ in range(batch_size)]\n",
        "        return self._encode_sample(idxes)\n",
        "\n",
        "\n",
        "class PrioritizedReplayBuffer(ReplayBuffer):\n",
        "    def __init__(self, size, alpha):\n",
        "        super(PrioritizedReplayBuffer, self).__init__(size)\n",
        "        assert alpha > 0\n",
        "        self._alpha = alpha\n",
        "\n",
        "        it_capacity = 1\n",
        "        while it_capacity < size:\n",
        "            it_capacity *= 2\n",
        "\n",
        "        self._it_sum = SumSegmentTree(it_capacity)\n",
        "        self._it_min = MinSegmentTree(it_capacity)\n",
        "        self._max_priority = 1.0\n",
        "\n",
        "    def push(self, *args, **kwargs):\n",
        "        idx = self._next_idx\n",
        "        super(PrioritizedReplayBuffer, self).push(*args, **kwargs)\n",
        "        self._it_sum[idx] = self._max_priority ** self._alpha\n",
        "        self._it_min[idx] = self._max_priority ** self._alpha\n",
        "\n",
        "    def _sample_proportional(self, batch_size):\n",
        "        res = []\n",
        "        for _ in range(batch_size):\n",
        "            mass = random.random() * self._it_sum.sum(0, len(self._storage) - 1)\n",
        "            idx = self._it_sum.find_prefixsum_idx(mass)\n",
        "            res.append(idx)\n",
        "        return res\n",
        "\n",
        "    def sample(self, batch_size, beta):\n",
        "        assert beta > 0\n",
        "\n",
        "        idxes = self._sample_proportional(batch_size)\n",
        "\n",
        "        weights = []\n",
        "        p_min = self._it_min.min() / self._it_sum.sum()\n",
        "        max_weight = (p_min * len(self._storage)) ** (-beta)\n",
        "\n",
        "        for idx in idxes:\n",
        "            p_sample = self._it_sum[idx] / self._it_sum.sum()\n",
        "            weight = (p_sample * len(self._storage)) ** (-beta)\n",
        "            weights.append(weight / max_weight)\n",
        "        weights = np.array(weights)\n",
        "        encoded_sample = self._encode_sample(idxes)\n",
        "        return tuple(list(encoded_sample) + [weights, idxes])\n",
        "\n",
        "    def update_priorities(self, idxes, priorities):\n",
        "        assert len(idxes) == priorities.size\n",
        "        for idx, priority in zip(idxes, priorities):\n",
        "            assert priority > 0\n",
        "            assert 0 <= idx < len(self._storage)\n",
        "            self._it_sum[idx] = priority ** self._alpha\n",
        "            self._it_min[idx] = priority ** self._alpha\n",
        "\n",
        "            self._max_priority = max(self._max_priority, priority)\n",
        "\n",
        "def projection_distribution(next_state, rewards, dones):\n",
        "    batch_size  = next_state.size(0)\n",
        "    \n",
        "    delta_z = float(Vmax - Vmin) / (num_atoms - 1)\n",
        "    support = torch.linspace(Vmin, Vmax, num_atoms)\n",
        "    \n",
        "    next_dist = target_model(next_state).to(device)\n",
        "    next_dist = next_dist.data.cpu() * support\n",
        "    next_action = next_dist.sum(2).max(1)[1]\n",
        "    next_action = next_action.unsqueeze(1).unsqueeze(1).expand(next_dist.size(0), 1, next_dist.size(2)).to(device)\n",
        "    next_dist   = next_dist.to(device).gather(1, next_action).squeeze(1).to(device)\n",
        "        \n",
        "    rewards = rewards.unsqueeze(1).expand_as(next_dist).to(device)\n",
        "    dones   = dones.unsqueeze(1).expand_as(next_dist).to(device)\n",
        "    support = support.unsqueeze(0).expand_as(next_dist).to(device)\n",
        "    \n",
        "    Tz = rewards + (1 - dones) * 0.99 * support\n",
        "    Tz = Tz.clamp(min=Vmin, max=Vmax)\n",
        "    b  = (Tz - Vmin) / delta_z\n",
        "    l  = b.floor().long()\n",
        "    u  = b.ceil().long()\n",
        "        \n",
        "    offset = torch.linspace(0, (batch_size - 1) * num_atoms, batch_size).long()\\\n",
        "                    .unsqueeze(1).expand(batch_size, num_atoms).to(device)\n",
        "\n",
        "    proj_dist = torch.zeros(next_dist.size()).to(device) \n",
        "    proj_dist.view(-1).index_add_(0, (l + offset).view(-1), (next_dist * (u.float() - b)).view(-1))\n",
        "    proj_dist.view(-1).index_add_(0, (u + offset).view(-1), (next_dist * (b - l.float())).view(-1))\n",
        "        \n",
        "    return proj_dist\n",
        "\n",
        "def compute_td_loss(batch_size):\n",
        "    state, action, reward, next_state, done, weights, indices = replay_buffer.sample(batch_size, 0.4) \n",
        "    state      = Variable(torch.FloatTensor(np.float32(state))).to(device)\n",
        "    next_state = Variable(torch.FloatTensor(np.float32(next_state))).to(device).detach()\n",
        "    action     = Variable(torch.LongTensor(action)).to(device)\n",
        "    reward     = torch.FloatTensor(reward).to(device)\n",
        "    done       = torch.FloatTensor(np.float32(done)).to(device)\n",
        "    weights       = torch.FloatTensor(np.float32(weights)).to(device)\n",
        "    proj_dist = projection_distribution(next_state, reward, done)\n",
        "    \n",
        "    dist = current_model(state)\n",
        "    action = action.unsqueeze(1).unsqueeze(1).expand(batch_size, 1, num_atoms)\n",
        "    dist = dist.gather(1, action).squeeze(1)\n",
        "    dist.data.clamp_(0.01, 0.99)\n",
        "    loss = -(Variable(proj_dist) * dist.log()).sum(1) * weights\n",
        "    \n",
        "    priorities = 1e-5 + loss.abs()\n",
        "    loss  = loss.mean()\n",
        "        \n",
        "    optimizer.zero_grad()\n",
        "    loss.backward()\n",
        "    optimizer.step()\n",
        "\n",
        "    replay_buffer.update_priorities(indices, priorities.detach().cpu().numpy())\n",
        "    current_model.reset_noise()\n",
        "    target_model.reset_noise()\n",
        "    \n",
        "    return loss\n",
        "\n",
        "\n",
        "class FireResetEnv(gym.Wrapper):\n",
        "    def __init__(self, env):\n",
        "        gym.Wrapper.__init__(self, env)\n",
        "        assert env.unwrapped.get_action_meanings()[1] == 'FIRE'\n",
        "        assert len(env.unwrapped.get_action_meanings()) >= 3\n",
        "\n",
        "    def reset(self, **kwargs):\n",
        "        self.env.reset(**kwargs)\n",
        "        obs, _, done, _ = self.env.step(1)\n",
        "        if done:\n",
        "            self.env.reset(**kwargs)\n",
        "        obs, _, done, _ = self.env.step(2)\n",
        "        if done:\n",
        "            self.env.reset(**kwargs)\n",
        "        return obs\n",
        "\n",
        "    def step(self, ac):\n",
        "        return self.env.step(ac)\n",
        "\n",
        "\n",
        "class ImageToPyTorch(gym.ObservationWrapper):\n",
        "    def __init__(self, env):\n",
        "        super(ImageToPyTorch, self).__init__(env)\n",
        "        old_shape = self.observation_space.shape\n",
        "        self.observation_space = gym.spaces.Box(low=0.0, high=1.0, shape=(old_shape[-1], old_shape[0], old_shape[1]), dtype=np.uint8)\n",
        "\n",
        "    def observation(self, observation):\n",
        "        return np.swapaxes(observation, 2, 0)\n",
        "\n",
        "\n",
        "def setup_env():\n",
        "    seed = 742\n",
        "    #env_id = \"PongNoFrameskip-v4\"\n",
        "    env_id = \"GravitarNoFrameskip-v4\"\n",
        "    env = gym.make(env_id)\n",
        "    env = gym.wrappers.AtariPreprocessing(env, grayscale_obs=False)\n",
        "    if 'FIRE' in env.unwrapped.get_action_meanings():\n",
        "        env = FireResetEnv(env)\n",
        "    env    = ImageToPyTorch(env)\n",
        "    env = gym.wrappers.Monitor(env, \"./video\", video_callable=lambda episode_id: (episode_id%video_every)==0,force=True)\n",
        "\n",
        "    env.seed(seed)\n",
        "    env.action_space.seed(seed)\n",
        "\n",
        "    # reproducible environment and action spaces, do not change lines 6-11 here (tools > settings > editor > show line numbers)\n",
        "    torch.manual_seed(seed)\n",
        "    random.seed(seed)\n",
        "    np.random.seed(seed)\n",
        "    return env\n",
        "\n",
        "class Linear_Noisy(nn.Module):\n",
        "    def __init__(self, in_size, out_size):\n",
        "        super(Linear_Noisy, self).__init__()\n",
        "        self.in_size = in_size\n",
        "        self.out_size = out_size\n",
        "\n",
        "        self.w_mu = nn.Parameter(torch.FloatTensor(out_size, in_size))\n",
        "        nn.init.uniform_(self.w_mu, -1/math.sqrt(in_size), 1/math.sqrt(in_size))\n",
        "\n",
        "        self.w_sigma = nn.Parameter(torch.FloatTensor(out_size, in_size))\n",
        "        nn.init.constant_(self.w_sigma, 0.4/math.sqrt(in_size))\n",
        "\n",
        "        self.register_buffer('w_noise', torch.FloatTensor(out_size, in_size))\n",
        "        \n",
        "        self.b_mu = nn.Parameter(torch.FloatTensor(out_size))\n",
        "        nn.init.uniform_(self.b_mu, -1/math.sqrt(in_size), 1/math.sqrt(in_size))\n",
        "\n",
        "        self.b_sigma = nn.Parameter(torch.FloatTensor(out_size))\n",
        "        nn.init.constant_(self.b_sigma, 0.4/math.sqrt(out_size))\n",
        "        \n",
        "        self.register_buffer('b_noise', torch.FloatTensor(out_size))\n",
        "\n",
        "    def forward(self, x):\n",
        "        w = self.w_mu + (self.w_sigma * self.w_noise.to(device))\n",
        "        b = self.b_mu + (self.b_sigma * self.b_noise.to(device))\n",
        "        return F.linear(x, w, b).to(device)\n",
        "   \n",
        "class RainbowCnnDQN(nn.Module):\n",
        "    def __init__(self, input_shape, num_actions, num_atoms, Vmin, Vmax):\n",
        "        super(RainbowCnnDQN, self).__init__()\n",
        "        \n",
        "        self.input_shape   = input_shape\n",
        "        self.num_actions  = num_actions\n",
        "        self.num_atoms    = num_atoms\n",
        "        self.Vmin         = Vmin\n",
        "        self.Vmax         = Vmax\n",
        "        \n",
        "        self.features = nn.Sequential(\n",
        "            nn.Conv2d(input_shape[0], 32, kernel_size=8, stride=4),\n",
        "            nn.ReLU(),\n",
        "            nn.Conv2d(32, 64, kernel_size=4, stride=2),\n",
        "            nn.ReLU(),\n",
        "            nn.Conv2d(64, 64, kernel_size=3, stride=1),\n",
        "            nn.ReLU()\n",
        "        )\n",
        "        \n",
        "        self.noisy_value1 = Linear_Noisy(64*49, 512).to(device)\n",
        "        self.noisy_value2 = Linear_Noisy(512, self.num_atoms).to(device)\n",
        "        \n",
        "        self.noisy_advantage1 = Linear_Noisy(64*49, 512).to(device)\n",
        "        self.noisy_advantage2 = Linear_Noisy(512, self.num_atoms * self.num_actions).to(device)\n",
        "        self.reset_noise()\n",
        "        \n",
        "    def forward(self, x):\n",
        "        batch_size = x.size(0)\n",
        "        \n",
        "        x = x.to(device) / 255.\n",
        "        x = self.features(x)\n",
        "        x = x.view(batch_size, -1)\n",
        "\n",
        "        value = F.relu(self.noisy_value1(x))\n",
        "        value = self.noisy_value2(value)\n",
        "        \n",
        "        advantage = F.relu(self.noisy_advantage1(x))\n",
        "        advantage = self.noisy_advantage2(advantage)\n",
        "        \n",
        "        val     = value.view(batch_size, 1, self.num_atoms)\n",
        "        adv = advantage.view(batch_size, self.num_actions, self.num_atoms)\n",
        "        \n",
        "        q_vals = val + adv - torch.mean(adv, 1, True)\n",
        "        q_vals = F.softmax(q_vals.view(-1, self.num_atoms)).view(-1, self.num_actions, self.num_atoms)\n",
        "        \n",
        "        return q_vals\n",
        "        \n",
        "    def reset_noise(self):\n",
        "        self.noisy_value1.b_noise = self.f(torch.randn(512))\n",
        "        self.noisy_value1.w_noise = self.f(torch.randn(512, 64*49))\n",
        "\n",
        "        self.noisy_value2.b_noise = self.f(torch.randn(self.num_atoms))\n",
        "        self.noisy_value2.w_noise = self.f(torch.randn(self.num_atoms, 512))\n",
        "\n",
        "        self.noisy_advantage1.b_noise = self.f(torch.randn(512))\n",
        "        self.noisy_advantage1.w_noise = self.f(torch.randn(512, 64*49))\n",
        "\n",
        "        self.noisy_advantage2.b_noise = self.f(torch.randn(self.num_atoms * self.num_actions))\n",
        "        self.noisy_advantage2.w_noise = self.f(torch.randn(self.num_atoms * self.num_actions, 512))\n",
        "    \n",
        "    def f(self, g_rand):\n",
        "        g_sgn = g_rand.sign()\n",
        "        return g_sgn * (g_sgn * g_rand).sqrt()\n",
        "\n",
        "    def feature_size(self):\n",
        "        return self.features(autograd.Variable(torch.zeros(1, *self.input_shape).to(device))).view(1, -1).size(1)\n",
        "    \n",
        "    def act(self, state):\n",
        "        state = Variable(torch.FloatTensor(np.float32(state)).unsqueeze(0)).to(device).detach()\n",
        "        dist = self.forward(state).data.cpu()\n",
        "        dist = dist * torch.linspace(self.Vmin, self.Vmax, self.num_atoms)\n",
        "        action = dist.sum(2).max(1)[1].numpy()[0]\n",
        "        return action\n",
        "\n",
        "def get_state(old_lives):\n",
        "    next_state, reward, done, _ = env.step(action)\n",
        "    lives = env.unwrapped.ale.lives()\n",
        "    if lives < old_lives and lives > 0:\n",
        "        done = True\n",
        "    return next_state, reward, done, _, lives\n",
        "    \n",
        "\n",
        "# hyperparameters\n",
        "env = setup_env()\n",
        "gamma         = 0.99\n",
        "num_frames = 1000000\n",
        "batch_size    = 32\n",
        "video_every   = 2\n",
        "print_every   = 2\n",
        "\n",
        "num_atoms = 51\n",
        "Vmin = -10\n",
        "Vmax = 10\n",
        "\n",
        "device = torch.device('cuda') if torch.cuda.is_available() else torch.device('cpu')\n",
        "current_model = RainbowCnnDQN(env.observation_space.shape, env.action_space.n, num_atoms, Vmin, Vmax).to(device)\n",
        "target_model  = RainbowCnnDQN(env.observation_space.shape, env.action_space.n, num_atoms, Vmin, Vmax).to(device)\n",
        "\n",
        "Variable = lambda *args, **kwargs: autograd.Variable(*args, **kwargs).cuda()\n",
        "optimizer = optim.Adam(current_model.parameters(), lr=0.0001)\n",
        "\n",
        "replay_initial = 10000\n",
        "replay_buffer  = PrioritizedReplayBuffer(20000, 0.8)\n",
        "\n",
        "score    = 0.0\n",
        "frame_idx = 0\n",
        "marking  = []\n",
        "losses = []    \n",
        "episode = 0"
      ],
      "execution_count": null,
      "outputs": []
    },
    {
      "cell_type": "code",
      "metadata": {
        "colab": {
          "base_uri": "https://localhost:8080/"
        },
        "id": "1z8fqg-6RAoW",
        "outputId": "1d3053e8-def1-45d0-a342-3b48d590d109"
      },
      "source": [
        "from google.colab import drive\n",
        "drive.mount('/content/drive')\n",
        "params = torch.load('drive/My Drive/save-prioritised1.chkpt')\n",
        "\n",
        "current_model.load_state_dict(params['R'])\n",
        "optimizer.load_state_dict(params['optimiser'])\n",
        "target_model.load_state_dict(current_model.state_dict())\n",
        "frame_idx = params['frame_idx']\n",
        "replay_buffer._storage = params['replay_buffer'][:100000]\n",
        "episode = params['episode'] + 1"
      ],
      "execution_count": null,
      "outputs": [
        {
          "output_type": "stream",
          "text": [
            "Mounted at /content/drive\n"
          ],
          "name": "stdout"
        }
      ]
    },
    {
      "cell_type": "code",
      "metadata": {
        "colab": {
          "base_uri": "https://localhost:8080/",
          "height": 1000
        },
        "id": "DDfRRHKCKSnE",
        "outputId": "82650e25-c966-4a72-e819-ff46abf9976b"
      },
      "source": [
        "for n_episode in range(episode, int(1e32)):\n",
        "    state = env.reset()\n",
        "    lives = env.unwrapped.ale.lives()\n",
        "    done = False\n",
        "    score = 0.0\n",
        "\n",
        "    while lives:\n",
        "        frame_idx += 1\n",
        "        action = current_model.act(state)\n",
        "\n",
        "        next_state, reward, done, _, lives = get_state(lives)\n",
        "        score += reward\n",
        "        reward = reward / 100.0\n",
        "        reward -= 0.5 if done else 0.0       \n",
        "\n",
        "        replay_buffer.push(state, action, reward, next_state, done)\n",
        "        state = next_state\n",
        "\n",
        "        if len(replay_buffer) > replay_initial:\n",
        "            loss = compute_td_loss(batch_size)\n",
        "            losses.append(loss.data.item())    \n",
        "\n",
        "        if frame_idx % 1000 == 0:\n",
        "            torch.save({'R': current_model.state_dict(), 'optimiser':optimizer.state_dict(), 'frame_idx': frame_idx, 'replay_buffer': replay_buffer._storage, 'episode': n_episode}, 'drive/My Drive/save-prioritised1.chkpt')\n",
        "            target_model.load_state_dict(current_model.state_dict())\n",
        "\n",
        "    # do not change lines 44-48 here, they are for marking the submission log\n",
        "    marking.append(score)\n",
        "    if n_episode%100 == 0:\n",
        "        print(\"marking, episode: {}, score: {:.1f}, mean_score: {:.2f}, std_score: {:.2f}\".format(\n",
        "            n_episode, score, np.array(marking).mean(), np.array(marking).std()))\n",
        "        marking = []\n",
        "\n",
        "\n",
        "    # you can change this part, and print any data you like (so long as it doesn't start with \"marking\")\n",
        "    if n_episode%print_every==0 and n_episode!=0:\n",
        "        target_model.load_state_dict(current_model.state_dict())\n",
        "        print(\"episode: {}, score: {:.1f}, epsilon: {:.2f}\".format(n_episode, score, 0))"
      ],
      "execution_count": null,
      "outputs": [
        {
          "output_type": "stream",
          "text": [
            "/usr/local/lib/python3.7/dist-packages/ipykernel_launcher.py:393: UserWarning: Implicit dimension choice for softmax has been deprecated. Change the call to include dim=X as an argument.\n"
          ],
          "name": "stderr"
        },
        {
          "output_type": "stream",
          "text": [
            "episode: 830, score: 0.0, epsilon: 0.00\n"
          ],
          "name": "stdout"
        },
        {
          "output_type": "stream",
          "text": [
            "/usr/local/lib/python3.7/dist-packages/ipykernel_launcher.py:393: UserWarning: Implicit dimension choice for softmax has been deprecated. Change the call to include dim=X as an argument.\n"
          ],
          "name": "stderr"
        },
        {
          "output_type": "stream",
          "text": [
            "episode: 832, score: 600.0, epsilon: 0.00\n"
          ],
          "name": "stdout"
        },
        {
          "output_type": "stream",
          "text": [
            "/usr/local/lib/python3.7/dist-packages/ipykernel_launcher.py:393: UserWarning: Implicit dimension choice for softmax has been deprecated. Change the call to include dim=X as an argument.\n"
          ],
          "name": "stderr"
        },
        {
          "output_type": "stream",
          "text": [
            "episode: 834, score: 0.0, epsilon: 0.00\n"
          ],
          "name": "stdout"
        },
        {
          "output_type": "stream",
          "text": [
            "/usr/local/lib/python3.7/dist-packages/ipykernel_launcher.py:393: UserWarning: Implicit dimension choice for softmax has been deprecated. Change the call to include dim=X as an argument.\n"
          ],
          "name": "stderr"
        },
        {
          "output_type": "stream",
          "text": [
            "episode: 836, score: 100.0, epsilon: 0.00\n"
          ],
          "name": "stdout"
        },
        {
          "output_type": "stream",
          "text": [
            "/usr/local/lib/python3.7/dist-packages/ipykernel_launcher.py:393: UserWarning: Implicit dimension choice for softmax has been deprecated. Change the call to include dim=X as an argument.\n"
          ],
          "name": "stderr"
        },
        {
          "output_type": "stream",
          "text": [
            "episode: 838, score: 500.0, epsilon: 0.00\n"
          ],
          "name": "stdout"
        },
        {
          "output_type": "stream",
          "text": [
            "/usr/local/lib/python3.7/dist-packages/ipykernel_launcher.py:393: UserWarning: Implicit dimension choice for softmax has been deprecated. Change the call to include dim=X as an argument.\n"
          ],
          "name": "stderr"
        },
        {
          "output_type": "stream",
          "text": [
            "episode: 840, score: 500.0, epsilon: 0.00\n"
          ],
          "name": "stdout"
        },
        {
          "output_type": "stream",
          "text": [
            "/usr/local/lib/python3.7/dist-packages/ipykernel_launcher.py:393: UserWarning: Implicit dimension choice for softmax has been deprecated. Change the call to include dim=X as an argument.\n"
          ],
          "name": "stderr"
        },
        {
          "output_type": "stream",
          "text": [
            "episode: 842, score: 500.0, epsilon: 0.00\n"
          ],
          "name": "stdout"
        },
        {
          "output_type": "stream",
          "text": [
            "/usr/local/lib/python3.7/dist-packages/ipykernel_launcher.py:393: UserWarning: Implicit dimension choice for softmax has been deprecated. Change the call to include dim=X as an argument.\n"
          ],
          "name": "stderr"
        },
        {
          "output_type": "stream",
          "text": [
            "episode: 844, score: 200.0, epsilon: 0.00\n"
          ],
          "name": "stdout"
        },
        {
          "output_type": "stream",
          "text": [
            "/usr/local/lib/python3.7/dist-packages/ipykernel_launcher.py:393: UserWarning: Implicit dimension choice for softmax has been deprecated. Change the call to include dim=X as an argument.\n"
          ],
          "name": "stderr"
        },
        {
          "output_type": "stream",
          "text": [
            "episode: 846, score: 0.0, epsilon: 0.00\n"
          ],
          "name": "stdout"
        },
        {
          "output_type": "stream",
          "text": [
            "/usr/local/lib/python3.7/dist-packages/ipykernel_launcher.py:393: UserWarning: Implicit dimension choice for softmax has been deprecated. Change the call to include dim=X as an argument.\n"
          ],
          "name": "stderr"
        },
        {
          "output_type": "stream",
          "text": [
            "episode: 848, score: 100.0, epsilon: 0.00\n"
          ],
          "name": "stdout"
        },
        {
          "output_type": "stream",
          "text": [
            "/usr/local/lib/python3.7/dist-packages/ipykernel_launcher.py:393: UserWarning: Implicit dimension choice for softmax has been deprecated. Change the call to include dim=X as an argument.\n"
          ],
          "name": "stderr"
        },
        {
          "output_type": "stream",
          "text": [
            "episode: 850, score: 250.0, epsilon: 0.00\n"
          ],
          "name": "stdout"
        },
        {
          "output_type": "stream",
          "text": [
            "/usr/local/lib/python3.7/dist-packages/ipykernel_launcher.py:393: UserWarning: Implicit dimension choice for softmax has been deprecated. Change the call to include dim=X as an argument.\n"
          ],
          "name": "stderr"
        },
        {
          "output_type": "stream",
          "text": [
            "episode: 852, score: 0.0, epsilon: 0.00\n"
          ],
          "name": "stdout"
        },
        {
          "output_type": "stream",
          "text": [
            "/usr/local/lib/python3.7/dist-packages/ipykernel_launcher.py:393: UserWarning: Implicit dimension choice for softmax has been deprecated. Change the call to include dim=X as an argument.\n"
          ],
          "name": "stderr"
        },
        {
          "output_type": "stream",
          "text": [
            "episode: 854, score: 100.0, epsilon: 0.00\n"
          ],
          "name": "stdout"
        },
        {
          "output_type": "stream",
          "text": [
            "/usr/local/lib/python3.7/dist-packages/ipykernel_launcher.py:393: UserWarning: Implicit dimension choice for softmax has been deprecated. Change the call to include dim=X as an argument.\n"
          ],
          "name": "stderr"
        },
        {
          "output_type": "stream",
          "text": [
            "episode: 856, score: 0.0, epsilon: 0.00\n"
          ],
          "name": "stdout"
        },
        {
          "output_type": "stream",
          "text": [
            "/usr/local/lib/python3.7/dist-packages/ipykernel_launcher.py:393: UserWarning: Implicit dimension choice for softmax has been deprecated. Change the call to include dim=X as an argument.\n"
          ],
          "name": "stderr"
        },
        {
          "output_type": "stream",
          "text": [
            "episode: 858, score: 100.0, epsilon: 0.00\n"
          ],
          "name": "stdout"
        },
        {
          "output_type": "stream",
          "text": [
            "/usr/local/lib/python3.7/dist-packages/ipykernel_launcher.py:393: UserWarning: Implicit dimension choice for softmax has been deprecated. Change the call to include dim=X as an argument.\n"
          ],
          "name": "stderr"
        },
        {
          "output_type": "stream",
          "text": [
            "episode: 860, score: 250.0, epsilon: 0.00\n"
          ],
          "name": "stdout"
        },
        {
          "output_type": "stream",
          "text": [
            "/usr/local/lib/python3.7/dist-packages/ipykernel_launcher.py:393: UserWarning: Implicit dimension choice for softmax has been deprecated. Change the call to include dim=X as an argument.\n"
          ],
          "name": "stderr"
        },
        {
          "output_type": "stream",
          "text": [
            "episode: 862, score: 250.0, epsilon: 0.00\n"
          ],
          "name": "stdout"
        },
        {
          "output_type": "stream",
          "text": [
            "/usr/local/lib/python3.7/dist-packages/ipykernel_launcher.py:393: UserWarning: Implicit dimension choice for softmax has been deprecated. Change the call to include dim=X as an argument.\n"
          ],
          "name": "stderr"
        },
        {
          "output_type": "stream",
          "text": [
            "episode: 864, score: 0.0, epsilon: 0.00\n"
          ],
          "name": "stdout"
        },
        {
          "output_type": "stream",
          "text": [
            "/usr/local/lib/python3.7/dist-packages/ipykernel_launcher.py:393: UserWarning: Implicit dimension choice for softmax has been deprecated. Change the call to include dim=X as an argument.\n"
          ],
          "name": "stderr"
        },
        {
          "output_type": "stream",
          "text": [
            "episode: 866, score: 0.0, epsilon: 0.00\n"
          ],
          "name": "stdout"
        },
        {
          "output_type": "stream",
          "text": [
            "/usr/local/lib/python3.7/dist-packages/ipykernel_launcher.py:393: UserWarning: Implicit dimension choice for softmax has been deprecated. Change the call to include dim=X as an argument.\n"
          ],
          "name": "stderr"
        },
        {
          "output_type": "stream",
          "text": [
            "episode: 868, score: 350.0, epsilon: 0.00\n"
          ],
          "name": "stdout"
        },
        {
          "output_type": "stream",
          "text": [
            "/usr/local/lib/python3.7/dist-packages/ipykernel_launcher.py:393: UserWarning: Implicit dimension choice for softmax has been deprecated. Change the call to include dim=X as an argument.\n"
          ],
          "name": "stderr"
        },
        {
          "output_type": "stream",
          "text": [
            "episode: 870, score: 0.0, epsilon: 0.00\n"
          ],
          "name": "stdout"
        },
        {
          "output_type": "stream",
          "text": [
            "/usr/local/lib/python3.7/dist-packages/ipykernel_launcher.py:393: UserWarning: Implicit dimension choice for softmax has been deprecated. Change the call to include dim=X as an argument.\n"
          ],
          "name": "stderr"
        },
        {
          "output_type": "stream",
          "text": [
            "episode: 872, score: 100.0, epsilon: 0.00\n"
          ],
          "name": "stdout"
        },
        {
          "output_type": "stream",
          "text": [
            "/usr/local/lib/python3.7/dist-packages/ipykernel_launcher.py:393: UserWarning: Implicit dimension choice for softmax has been deprecated. Change the call to include dim=X as an argument.\n"
          ],
          "name": "stderr"
        },
        {
          "output_type": "stream",
          "text": [
            "episode: 874, score: 250.0, epsilon: 0.00\n"
          ],
          "name": "stdout"
        },
        {
          "output_type": "stream",
          "text": [
            "/usr/local/lib/python3.7/dist-packages/ipykernel_launcher.py:393: UserWarning: Implicit dimension choice for softmax has been deprecated. Change the call to include dim=X as an argument.\n"
          ],
          "name": "stderr"
        },
        {
          "output_type": "stream",
          "text": [
            "episode: 876, score: 0.0, epsilon: 0.00\n"
          ],
          "name": "stdout"
        },
        {
          "output_type": "stream",
          "text": [
            "/usr/local/lib/python3.7/dist-packages/ipykernel_launcher.py:393: UserWarning: Implicit dimension choice for softmax has been deprecated. Change the call to include dim=X as an argument.\n"
          ],
          "name": "stderr"
        },
        {
          "output_type": "stream",
          "text": [
            "episode: 878, score: 250.0, epsilon: 0.00\n"
          ],
          "name": "stdout"
        },
        {
          "output_type": "stream",
          "text": [
            "/usr/local/lib/python3.7/dist-packages/ipykernel_launcher.py:393: UserWarning: Implicit dimension choice for softmax has been deprecated. Change the call to include dim=X as an argument.\n"
          ],
          "name": "stderr"
        },
        {
          "output_type": "stream",
          "text": [
            "episode: 880, score: 250.0, epsilon: 0.00\n"
          ],
          "name": "stdout"
        },
        {
          "output_type": "stream",
          "text": [
            "/usr/local/lib/python3.7/dist-packages/ipykernel_launcher.py:393: UserWarning: Implicit dimension choice for softmax has been deprecated. Change the call to include dim=X as an argument.\n"
          ],
          "name": "stderr"
        },
        {
          "output_type": "stream",
          "text": [
            "episode: 882, score: 0.0, epsilon: 0.00\n"
          ],
          "name": "stdout"
        },
        {
          "output_type": "stream",
          "text": [
            "/usr/local/lib/python3.7/dist-packages/ipykernel_launcher.py:393: UserWarning: Implicit dimension choice for softmax has been deprecated. Change the call to include dim=X as an argument.\n"
          ],
          "name": "stderr"
        },
        {
          "output_type": "stream",
          "text": [
            "episode: 884, score: 350.0, epsilon: 0.00\n"
          ],
          "name": "stdout"
        },
        {
          "output_type": "stream",
          "text": [
            "/usr/local/lib/python3.7/dist-packages/ipykernel_launcher.py:393: UserWarning: Implicit dimension choice for softmax has been deprecated. Change the call to include dim=X as an argument.\n"
          ],
          "name": "stderr"
        },
        {
          "output_type": "stream",
          "text": [
            "episode: 886, score: 600.0, epsilon: 0.00\n"
          ],
          "name": "stdout"
        },
        {
          "output_type": "stream",
          "text": [
            "/usr/local/lib/python3.7/dist-packages/ipykernel_launcher.py:393: UserWarning: Implicit dimension choice for softmax has been deprecated. Change the call to include dim=X as an argument.\n"
          ],
          "name": "stderr"
        },
        {
          "output_type": "stream",
          "text": [
            "episode: 888, score: 100.0, epsilon: 0.00\n"
          ],
          "name": "stdout"
        },
        {
          "output_type": "stream",
          "text": [
            "/usr/local/lib/python3.7/dist-packages/ipykernel_launcher.py:393: UserWarning: Implicit dimension choice for softmax has been deprecated. Change the call to include dim=X as an argument.\n"
          ],
          "name": "stderr"
        },
        {
          "output_type": "stream",
          "text": [
            "episode: 890, score: 0.0, epsilon: 0.00\n"
          ],
          "name": "stdout"
        },
        {
          "output_type": "stream",
          "text": [
            "/usr/local/lib/python3.7/dist-packages/ipykernel_launcher.py:393: UserWarning: Implicit dimension choice for softmax has been deprecated. Change the call to include dim=X as an argument.\n"
          ],
          "name": "stderr"
        },
        {
          "output_type": "stream",
          "text": [
            "episode: 892, score: 350.0, epsilon: 0.00\n"
          ],
          "name": "stdout"
        },
        {
          "output_type": "stream",
          "text": [
            "/usr/local/lib/python3.7/dist-packages/ipykernel_launcher.py:393: UserWarning: Implicit dimension choice for softmax has been deprecated. Change the call to include dim=X as an argument.\n"
          ],
          "name": "stderr"
        },
        {
          "output_type": "stream",
          "text": [
            "episode: 894, score: 250.0, epsilon: 0.00\n"
          ],
          "name": "stdout"
        },
        {
          "output_type": "stream",
          "text": [
            "/usr/local/lib/python3.7/dist-packages/ipykernel_launcher.py:393: UserWarning: Implicit dimension choice for softmax has been deprecated. Change the call to include dim=X as an argument.\n"
          ],
          "name": "stderr"
        },
        {
          "output_type": "stream",
          "text": [
            "episode: 896, score: 0.0, epsilon: 0.00\n"
          ],
          "name": "stdout"
        },
        {
          "output_type": "stream",
          "text": [
            "/usr/local/lib/python3.7/dist-packages/ipykernel_launcher.py:393: UserWarning: Implicit dimension choice for softmax has been deprecated. Change the call to include dim=X as an argument.\n"
          ],
          "name": "stderr"
        },
        {
          "output_type": "stream",
          "text": [
            "episode: 898, score: 100.0, epsilon: 0.00\n"
          ],
          "name": "stdout"
        },
        {
          "output_type": "stream",
          "text": [
            "/usr/local/lib/python3.7/dist-packages/ipykernel_launcher.py:393: UserWarning: Implicit dimension choice for softmax has been deprecated. Change the call to include dim=X as an argument.\n"
          ],
          "name": "stderr"
        },
        {
          "output_type": "stream",
          "text": [
            "marking, episode: 900, score: 250.0, mean_score: 195.77, std_score: 212.92\n",
            "episode: 900, score: 250.0, epsilon: 0.00\n"
          ],
          "name": "stdout"
        },
        {
          "output_type": "stream",
          "text": [
            "/usr/local/lib/python3.7/dist-packages/ipykernel_launcher.py:393: UserWarning: Implicit dimension choice for softmax has been deprecated. Change the call to include dim=X as an argument.\n"
          ],
          "name": "stderr"
        },
        {
          "output_type": "stream",
          "text": [
            "episode: 902, score: 500.0, epsilon: 0.00\n"
          ],
          "name": "stdout"
        },
        {
          "output_type": "stream",
          "text": [
            "/usr/local/lib/python3.7/dist-packages/ipykernel_launcher.py:393: UserWarning: Implicit dimension choice for softmax has been deprecated. Change the call to include dim=X as an argument.\n"
          ],
          "name": "stderr"
        },
        {
          "output_type": "stream",
          "text": [
            "episode: 904, score: 0.0, epsilon: 0.00\n"
          ],
          "name": "stdout"
        },
        {
          "output_type": "stream",
          "text": [
            "/usr/local/lib/python3.7/dist-packages/ipykernel_launcher.py:393: UserWarning: Implicit dimension choice for softmax has been deprecated. Change the call to include dim=X as an argument.\n"
          ],
          "name": "stderr"
        },
        {
          "output_type": "stream",
          "text": [
            "episode: 906, score: 750.0, epsilon: 0.00\n"
          ],
          "name": "stdout"
        },
        {
          "output_type": "stream",
          "text": [
            "/usr/local/lib/python3.7/dist-packages/ipykernel_launcher.py:393: UserWarning: Implicit dimension choice for softmax has been deprecated. Change the call to include dim=X as an argument.\n"
          ],
          "name": "stderr"
        },
        {
          "output_type": "stream",
          "text": [
            "episode: 908, score: 0.0, epsilon: 0.00\n"
          ],
          "name": "stdout"
        },
        {
          "output_type": "stream",
          "text": [
            "/usr/local/lib/python3.7/dist-packages/ipykernel_launcher.py:393: UserWarning: Implicit dimension choice for softmax has been deprecated. Change the call to include dim=X as an argument.\n"
          ],
          "name": "stderr"
        },
        {
          "output_type": "stream",
          "text": [
            "episode: 910, score: 0.0, epsilon: 0.00\n"
          ],
          "name": "stdout"
        },
        {
          "output_type": "stream",
          "text": [
            "/usr/local/lib/python3.7/dist-packages/ipykernel_launcher.py:393: UserWarning: Implicit dimension choice for softmax has been deprecated. Change the call to include dim=X as an argument.\n"
          ],
          "name": "stderr"
        },
        {
          "output_type": "stream",
          "text": [
            "episode: 912, score: 0.0, epsilon: 0.00\n"
          ],
          "name": "stdout"
        },
        {
          "output_type": "stream",
          "text": [
            "/usr/local/lib/python3.7/dist-packages/ipykernel_launcher.py:393: UserWarning: Implicit dimension choice for softmax has been deprecated. Change the call to include dim=X as an argument.\n"
          ],
          "name": "stderr"
        },
        {
          "output_type": "stream",
          "text": [
            "episode: 914, score: 100.0, epsilon: 0.00\n"
          ],
          "name": "stdout"
        },
        {
          "output_type": "stream",
          "text": [
            "/usr/local/lib/python3.7/dist-packages/ipykernel_launcher.py:393: UserWarning: Implicit dimension choice for softmax has been deprecated. Change the call to include dim=X as an argument.\n"
          ],
          "name": "stderr"
        },
        {
          "output_type": "stream",
          "text": [
            "episode: 916, score: 250.0, epsilon: 0.00\n"
          ],
          "name": "stdout"
        },
        {
          "output_type": "stream",
          "text": [
            "/usr/local/lib/python3.7/dist-packages/ipykernel_launcher.py:393: UserWarning: Implicit dimension choice for softmax has been deprecated. Change the call to include dim=X as an argument.\n"
          ],
          "name": "stderr"
        },
        {
          "output_type": "stream",
          "text": [
            "episode: 918, score: 0.0, epsilon: 0.00\n"
          ],
          "name": "stdout"
        },
        {
          "output_type": "stream",
          "text": [
            "/usr/local/lib/python3.7/dist-packages/ipykernel_launcher.py:393: UserWarning: Implicit dimension choice for softmax has been deprecated. Change the call to include dim=X as an argument.\n"
          ],
          "name": "stderr"
        },
        {
          "output_type": "stream",
          "text": [
            "episode: 920, score: 0.0, epsilon: 0.00\n"
          ],
          "name": "stdout"
        },
        {
          "output_type": "stream",
          "text": [
            "/usr/local/lib/python3.7/dist-packages/ipykernel_launcher.py:393: UserWarning: Implicit dimension choice for softmax has been deprecated. Change the call to include dim=X as an argument.\n"
          ],
          "name": "stderr"
        },
        {
          "output_type": "stream",
          "text": [
            "episode: 922, score: 0.0, epsilon: 0.00\n"
          ],
          "name": "stdout"
        },
        {
          "output_type": "stream",
          "text": [
            "/usr/local/lib/python3.7/dist-packages/ipykernel_launcher.py:393: UserWarning: Implicit dimension choice for softmax has been deprecated. Change the call to include dim=X as an argument.\n"
          ],
          "name": "stderr"
        },
        {
          "output_type": "stream",
          "text": [
            "episode: 924, score: 0.0, epsilon: 0.00\n"
          ],
          "name": "stdout"
        },
        {
          "output_type": "stream",
          "text": [
            "/usr/local/lib/python3.7/dist-packages/ipykernel_launcher.py:393: UserWarning: Implicit dimension choice for softmax has been deprecated. Change the call to include dim=X as an argument.\n"
          ],
          "name": "stderr"
        },
        {
          "output_type": "stream",
          "text": [
            "episode: 926, score: 100.0, epsilon: 0.00\n"
          ],
          "name": "stdout"
        },
        {
          "output_type": "stream",
          "text": [
            "/usr/local/lib/python3.7/dist-packages/ipykernel_launcher.py:393: UserWarning: Implicit dimension choice for softmax has been deprecated. Change the call to include dim=X as an argument.\n"
          ],
          "name": "stderr"
        },
        {
          "output_type": "stream",
          "text": [
            "episode: 928, score: 100.0, epsilon: 0.00\n"
          ],
          "name": "stdout"
        },
        {
          "output_type": "stream",
          "text": [
            "/usr/local/lib/python3.7/dist-packages/ipykernel_launcher.py:393: UserWarning: Implicit dimension choice for softmax has been deprecated. Change the call to include dim=X as an argument.\n"
          ],
          "name": "stderr"
        },
        {
          "output_type": "stream",
          "text": [
            "episode: 930, score: 100.0, epsilon: 0.00\n"
          ],
          "name": "stdout"
        },
        {
          "output_type": "stream",
          "text": [
            "/usr/local/lib/python3.7/dist-packages/ipykernel_launcher.py:393: UserWarning: Implicit dimension choice for softmax has been deprecated. Change the call to include dim=X as an argument.\n"
          ],
          "name": "stderr"
        },
        {
          "output_type": "stream",
          "text": [
            "episode: 932, score: 100.0, epsilon: 0.00\n"
          ],
          "name": "stdout"
        },
        {
          "output_type": "stream",
          "text": [
            "/usr/local/lib/python3.7/dist-packages/ipykernel_launcher.py:393: UserWarning: Implicit dimension choice for softmax has been deprecated. Change the call to include dim=X as an argument.\n"
          ],
          "name": "stderr"
        },
        {
          "output_type": "stream",
          "text": [
            "episode: 934, score: 0.0, epsilon: 0.00\n"
          ],
          "name": "stdout"
        },
        {
          "output_type": "stream",
          "text": [
            "/usr/local/lib/python3.7/dist-packages/ipykernel_launcher.py:393: UserWarning: Implicit dimension choice for softmax has been deprecated. Change the call to include dim=X as an argument.\n"
          ],
          "name": "stderr"
        },
        {
          "output_type": "stream",
          "text": [
            "episode: 936, score: 0.0, epsilon: 0.00\n"
          ],
          "name": "stdout"
        },
        {
          "output_type": "stream",
          "text": [
            "/usr/local/lib/python3.7/dist-packages/ipykernel_launcher.py:393: UserWarning: Implicit dimension choice for softmax has been deprecated. Change the call to include dim=X as an argument.\n"
          ],
          "name": "stderr"
        },
        {
          "output_type": "stream",
          "text": [
            "episode: 938, score: 0.0, epsilon: 0.00\n"
          ],
          "name": "stdout"
        },
        {
          "output_type": "stream",
          "text": [
            "/usr/local/lib/python3.7/dist-packages/ipykernel_launcher.py:393: UserWarning: Implicit dimension choice for softmax has been deprecated. Change the call to include dim=X as an argument.\n"
          ],
          "name": "stderr"
        },
        {
          "output_type": "stream",
          "text": [
            "episode: 940, score: 0.0, epsilon: 0.00\n"
          ],
          "name": "stdout"
        },
        {
          "output_type": "stream",
          "text": [
            "/usr/local/lib/python3.7/dist-packages/ipykernel_launcher.py:393: UserWarning: Implicit dimension choice for softmax has been deprecated. Change the call to include dim=X as an argument.\n"
          ],
          "name": "stderr"
        },
        {
          "output_type": "stream",
          "text": [
            "episode: 942, score: 0.0, epsilon: 0.00\n"
          ],
          "name": "stdout"
        },
        {
          "output_type": "stream",
          "text": [
            "/usr/local/lib/python3.7/dist-packages/ipykernel_launcher.py:393: UserWarning: Implicit dimension choice for softmax has been deprecated. Change the call to include dim=X as an argument.\n"
          ],
          "name": "stderr"
        },
        {
          "output_type": "stream",
          "text": [
            "episode: 944, score: 0.0, epsilon: 0.00\n"
          ],
          "name": "stdout"
        },
        {
          "output_type": "stream",
          "text": [
            "/usr/local/lib/python3.7/dist-packages/ipykernel_launcher.py:393: UserWarning: Implicit dimension choice for softmax has been deprecated. Change the call to include dim=X as an argument.\n"
          ],
          "name": "stderr"
        },
        {
          "output_type": "stream",
          "text": [
            "episode: 946, score: 700.0, epsilon: 0.00\n"
          ],
          "name": "stdout"
        },
        {
          "output_type": "stream",
          "text": [
            "/usr/local/lib/python3.7/dist-packages/ipykernel_launcher.py:393: UserWarning: Implicit dimension choice for softmax has been deprecated. Change the call to include dim=X as an argument.\n"
          ],
          "name": "stderr"
        },
        {
          "output_type": "stream",
          "text": [
            "episode: 948, score: 0.0, epsilon: 0.00\n"
          ],
          "name": "stdout"
        },
        {
          "output_type": "stream",
          "text": [
            "/usr/local/lib/python3.7/dist-packages/ipykernel_launcher.py:393: UserWarning: Implicit dimension choice for softmax has been deprecated. Change the call to include dim=X as an argument.\n"
          ],
          "name": "stderr"
        },
        {
          "output_type": "stream",
          "text": [
            "episode: 950, score: 0.0, epsilon: 0.00\n"
          ],
          "name": "stdout"
        },
        {
          "output_type": "stream",
          "text": [
            "/usr/local/lib/python3.7/dist-packages/ipykernel_launcher.py:393: UserWarning: Implicit dimension choice for softmax has been deprecated. Change the call to include dim=X as an argument.\n"
          ],
          "name": "stderr"
        },
        {
          "output_type": "stream",
          "text": [
            "episode: 952, score: 250.0, epsilon: 0.00\n"
          ],
          "name": "stdout"
        },
        {
          "output_type": "stream",
          "text": [
            "/usr/local/lib/python3.7/dist-packages/ipykernel_launcher.py:393: UserWarning: Implicit dimension choice for softmax has been deprecated. Change the call to include dim=X as an argument.\n"
          ],
          "name": "stderr"
        },
        {
          "output_type": "stream",
          "text": [
            "episode: 954, score: 500.0, epsilon: 0.00\n"
          ],
          "name": "stdout"
        },
        {
          "output_type": "stream",
          "text": [
            "/usr/local/lib/python3.7/dist-packages/ipykernel_launcher.py:393: UserWarning: Implicit dimension choice for softmax has been deprecated. Change the call to include dim=X as an argument.\n"
          ],
          "name": "stderr"
        },
        {
          "output_type": "stream",
          "text": [
            "episode: 956, score: 350.0, epsilon: 0.00\n"
          ],
          "name": "stdout"
        },
        {
          "output_type": "stream",
          "text": [
            "/usr/local/lib/python3.7/dist-packages/ipykernel_launcher.py:393: UserWarning: Implicit dimension choice for softmax has been deprecated. Change the call to include dim=X as an argument.\n"
          ],
          "name": "stderr"
        },
        {
          "output_type": "stream",
          "text": [
            "episode: 958, score: 100.0, epsilon: 0.00\n"
          ],
          "name": "stdout"
        },
        {
          "output_type": "stream",
          "text": [
            "/usr/local/lib/python3.7/dist-packages/ipykernel_launcher.py:393: UserWarning: Implicit dimension choice for softmax has been deprecated. Change the call to include dim=X as an argument.\n"
          ],
          "name": "stderr"
        },
        {
          "output_type": "stream",
          "text": [
            "episode: 960, score: 0.0, epsilon: 0.00\n"
          ],
          "name": "stdout"
        },
        {
          "output_type": "stream",
          "text": [
            "/usr/local/lib/python3.7/dist-packages/ipykernel_launcher.py:393: UserWarning: Implicit dimension choice for softmax has been deprecated. Change the call to include dim=X as an argument.\n"
          ],
          "name": "stderr"
        },
        {
          "output_type": "stream",
          "text": [
            "episode: 962, score: 0.0, epsilon: 0.00\n"
          ],
          "name": "stdout"
        },
        {
          "output_type": "stream",
          "text": [
            "/usr/local/lib/python3.7/dist-packages/ipykernel_launcher.py:393: UserWarning: Implicit dimension choice for softmax has been deprecated. Change the call to include dim=X as an argument.\n"
          ],
          "name": "stderr"
        },
        {
          "output_type": "stream",
          "text": [
            "episode: 964, score: 100.0, epsilon: 0.00\n"
          ],
          "name": "stdout"
        },
        {
          "output_type": "stream",
          "text": [
            "/usr/local/lib/python3.7/dist-packages/ipykernel_launcher.py:393: UserWarning: Implicit dimension choice for softmax has been deprecated. Change the call to include dim=X as an argument.\n"
          ],
          "name": "stderr"
        },
        {
          "output_type": "stream",
          "text": [
            "episode: 966, score: 100.0, epsilon: 0.00\n"
          ],
          "name": "stdout"
        },
        {
          "output_type": "stream",
          "text": [
            "/usr/local/lib/python3.7/dist-packages/ipykernel_launcher.py:393: UserWarning: Implicit dimension choice for softmax has been deprecated. Change the call to include dim=X as an argument.\n"
          ],
          "name": "stderr"
        },
        {
          "output_type": "stream",
          "text": [
            "episode: 968, score: 0.0, epsilon: 0.00\n"
          ],
          "name": "stdout"
        },
        {
          "output_type": "stream",
          "text": [
            "/usr/local/lib/python3.7/dist-packages/ipykernel_launcher.py:393: UserWarning: Implicit dimension choice for softmax has been deprecated. Change the call to include dim=X as an argument.\n"
          ],
          "name": "stderr"
        },
        {
          "output_type": "stream",
          "text": [
            "episode: 970, score: 0.0, epsilon: 0.00\n"
          ],
          "name": "stdout"
        },
        {
          "output_type": "stream",
          "text": [
            "/usr/local/lib/python3.7/dist-packages/ipykernel_launcher.py:393: UserWarning: Implicit dimension choice for softmax has been deprecated. Change the call to include dim=X as an argument.\n"
          ],
          "name": "stderr"
        },
        {
          "output_type": "stream",
          "text": [
            "episode: 972, score: 0.0, epsilon: 0.00\n"
          ],
          "name": "stdout"
        },
        {
          "output_type": "stream",
          "text": [
            "/usr/local/lib/python3.7/dist-packages/ipykernel_launcher.py:393: UserWarning: Implicit dimension choice for softmax has been deprecated. Change the call to include dim=X as an argument.\n"
          ],
          "name": "stderr"
        },
        {
          "output_type": "stream",
          "text": [
            "episode: 974, score: 0.0, epsilon: 0.00\n"
          ],
          "name": "stdout"
        },
        {
          "output_type": "stream",
          "text": [
            "/usr/local/lib/python3.7/dist-packages/ipykernel_launcher.py:393: UserWarning: Implicit dimension choice for softmax has been deprecated. Change the call to include dim=X as an argument.\n"
          ],
          "name": "stderr"
        },
        {
          "output_type": "stream",
          "text": [
            "episode: 976, score: 0.0, epsilon: 0.00\n"
          ],
          "name": "stdout"
        },
        {
          "output_type": "stream",
          "text": [
            "/usr/local/lib/python3.7/dist-packages/ipykernel_launcher.py:393: UserWarning: Implicit dimension choice for softmax has been deprecated. Change the call to include dim=X as an argument.\n"
          ],
          "name": "stderr"
        },
        {
          "output_type": "stream",
          "text": [
            "episode: 978, score: 100.0, epsilon: 0.00\n"
          ],
          "name": "stdout"
        },
        {
          "output_type": "stream",
          "text": [
            "/usr/local/lib/python3.7/dist-packages/ipykernel_launcher.py:393: UserWarning: Implicit dimension choice for softmax has been deprecated. Change the call to include dim=X as an argument.\n"
          ],
          "name": "stderr"
        },
        {
          "output_type": "stream",
          "text": [
            "episode: 980, score: 0.0, epsilon: 0.00\n"
          ],
          "name": "stdout"
        },
        {
          "output_type": "stream",
          "text": [
            "/usr/local/lib/python3.7/dist-packages/ipykernel_launcher.py:393: UserWarning: Implicit dimension choice for softmax has been deprecated. Change the call to include dim=X as an argument.\n"
          ],
          "name": "stderr"
        },
        {
          "output_type": "stream",
          "text": [
            "episode: 982, score: 0.0, epsilon: 0.00\n"
          ],
          "name": "stdout"
        },
        {
          "output_type": "stream",
          "text": [
            "/usr/local/lib/python3.7/dist-packages/ipykernel_launcher.py:393: UserWarning: Implicit dimension choice for softmax has been deprecated. Change the call to include dim=X as an argument.\n"
          ],
          "name": "stderr"
        },
        {
          "output_type": "stream",
          "text": [
            "episode: 984, score: 0.0, epsilon: 0.00\n"
          ],
          "name": "stdout"
        },
        {
          "output_type": "stream",
          "text": [
            "/usr/local/lib/python3.7/dist-packages/ipykernel_launcher.py:393: UserWarning: Implicit dimension choice for softmax has been deprecated. Change the call to include dim=X as an argument.\n"
          ],
          "name": "stderr"
        },
        {
          "output_type": "stream",
          "text": [
            "episode: 986, score: 0.0, epsilon: 0.00\n"
          ],
          "name": "stdout"
        },
        {
          "output_type": "stream",
          "text": [
            "/usr/local/lib/python3.7/dist-packages/ipykernel_launcher.py:393: UserWarning: Implicit dimension choice for softmax has been deprecated. Change the call to include dim=X as an argument.\n"
          ],
          "name": "stderr"
        },
        {
          "output_type": "stream",
          "text": [
            "episode: 988, score: 250.0, epsilon: 0.00\n"
          ],
          "name": "stdout"
        },
        {
          "output_type": "stream",
          "text": [
            "/usr/local/lib/python3.7/dist-packages/ipykernel_launcher.py:393: UserWarning: Implicit dimension choice for softmax has been deprecated. Change the call to include dim=X as an argument.\n"
          ],
          "name": "stderr"
        },
        {
          "output_type": "stream",
          "text": [
            "episode: 990, score: 100.0, epsilon: 0.00\n"
          ],
          "name": "stdout"
        },
        {
          "output_type": "stream",
          "text": [
            "/usr/local/lib/python3.7/dist-packages/ipykernel_launcher.py:393: UserWarning: Implicit dimension choice for softmax has been deprecated. Change the call to include dim=X as an argument.\n"
          ],
          "name": "stderr"
        },
        {
          "output_type": "stream",
          "text": [
            "episode: 992, score: 850.0, epsilon: 0.00\n"
          ],
          "name": "stdout"
        },
        {
          "output_type": "stream",
          "text": [
            "/usr/local/lib/python3.7/dist-packages/ipykernel_launcher.py:393: UserWarning: Implicit dimension choice for softmax has been deprecated. Change the call to include dim=X as an argument.\n"
          ],
          "name": "stderr"
        },
        {
          "output_type": "stream",
          "text": [
            "episode: 994, score: 0.0, epsilon: 0.00\n"
          ],
          "name": "stdout"
        },
        {
          "output_type": "stream",
          "text": [
            "/usr/local/lib/python3.7/dist-packages/ipykernel_launcher.py:393: UserWarning: Implicit dimension choice for softmax has been deprecated. Change the call to include dim=X as an argument.\n"
          ],
          "name": "stderr"
        },
        {
          "output_type": "stream",
          "text": [
            "episode: 996, score: 0.0, epsilon: 0.00\n"
          ],
          "name": "stdout"
        },
        {
          "output_type": "stream",
          "text": [
            "/usr/local/lib/python3.7/dist-packages/ipykernel_launcher.py:393: UserWarning: Implicit dimension choice for softmax has been deprecated. Change the call to include dim=X as an argument.\n"
          ],
          "name": "stderr"
        },
        {
          "output_type": "stream",
          "text": [
            "episode: 998, score: 500.0, epsilon: 0.00\n"
          ],
          "name": "stdout"
        },
        {
          "output_type": "stream",
          "text": [
            "/usr/local/lib/python3.7/dist-packages/ipykernel_launcher.py:393: UserWarning: Implicit dimension choice for softmax has been deprecated. Change the call to include dim=X as an argument.\n"
          ],
          "name": "stderr"
        },
        {
          "output_type": "stream",
          "text": [
            "marking, episode: 1000, score: 0.0, mean_score: 122.00, std_score: 189.52\n",
            "episode: 1000, score: 0.0, epsilon: 0.00\n"
          ],
          "name": "stdout"
        },
        {
          "output_type": "stream",
          "text": [
            "/usr/local/lib/python3.7/dist-packages/ipykernel_launcher.py:393: UserWarning: Implicit dimension choice for softmax has been deprecated. Change the call to include dim=X as an argument.\n"
          ],
          "name": "stderr"
        },
        {
          "output_type": "stream",
          "text": [
            "episode: 1002, score: 0.0, epsilon: 0.00\n"
          ],
          "name": "stdout"
        },
        {
          "output_type": "stream",
          "text": [
            "/usr/local/lib/python3.7/dist-packages/ipykernel_launcher.py:393: UserWarning: Implicit dimension choice for softmax has been deprecated. Change the call to include dim=X as an argument.\n"
          ],
          "name": "stderr"
        },
        {
          "output_type": "stream",
          "text": [
            "episode: 1004, score: 500.0, epsilon: 0.00\n"
          ],
          "name": "stdout"
        },
        {
          "output_type": "stream",
          "text": [
            "/usr/local/lib/python3.7/dist-packages/ipykernel_launcher.py:393: UserWarning: Implicit dimension choice for softmax has been deprecated. Change the call to include dim=X as an argument.\n"
          ],
          "name": "stderr"
        },
        {
          "output_type": "stream",
          "text": [
            "episode: 1006, score: 500.0, epsilon: 0.00\n"
          ],
          "name": "stdout"
        },
        {
          "output_type": "stream",
          "text": [
            "/usr/local/lib/python3.7/dist-packages/ipykernel_launcher.py:393: UserWarning: Implicit dimension choice for softmax has been deprecated. Change the call to include dim=X as an argument.\n"
          ],
          "name": "stderr"
        },
        {
          "output_type": "stream",
          "text": [
            "episode: 1008, score: 0.0, epsilon: 0.00\n"
          ],
          "name": "stdout"
        },
        {
          "output_type": "stream",
          "text": [
            "/usr/local/lib/python3.7/dist-packages/ipykernel_launcher.py:393: UserWarning: Implicit dimension choice for softmax has been deprecated. Change the call to include dim=X as an argument.\n"
          ],
          "name": "stderr"
        },
        {
          "output_type": "stream",
          "text": [
            "episode: 1010, score: 250.0, epsilon: 0.00\n"
          ],
          "name": "stdout"
        },
        {
          "output_type": "stream",
          "text": [
            "/usr/local/lib/python3.7/dist-packages/ipykernel_launcher.py:393: UserWarning: Implicit dimension choice for softmax has been deprecated. Change the call to include dim=X as an argument.\n"
          ],
          "name": "stderr"
        },
        {
          "output_type": "stream",
          "text": [
            "episode: 1012, score: 200.0, epsilon: 0.00\n"
          ],
          "name": "stdout"
        },
        {
          "output_type": "stream",
          "text": [
            "/usr/local/lib/python3.7/dist-packages/ipykernel_launcher.py:393: UserWarning: Implicit dimension choice for softmax has been deprecated. Change the call to include dim=X as an argument.\n"
          ],
          "name": "stderr"
        },
        {
          "output_type": "stream",
          "text": [
            "episode: 1014, score: 0.0, epsilon: 0.00\n"
          ],
          "name": "stdout"
        },
        {
          "output_type": "stream",
          "text": [
            "/usr/local/lib/python3.7/dist-packages/ipykernel_launcher.py:393: UserWarning: Implicit dimension choice for softmax has been deprecated. Change the call to include dim=X as an argument.\n"
          ],
          "name": "stderr"
        },
        {
          "output_type": "stream",
          "text": [
            "episode: 1016, score: 250.0, epsilon: 0.00\n"
          ],
          "name": "stdout"
        },
        {
          "output_type": "stream",
          "text": [
            "/usr/local/lib/python3.7/dist-packages/ipykernel_launcher.py:393: UserWarning: Implicit dimension choice for softmax has been deprecated. Change the call to include dim=X as an argument.\n"
          ],
          "name": "stderr"
        },
        {
          "output_type": "stream",
          "text": [
            "episode: 1018, score: 350.0, epsilon: 0.00\n"
          ],
          "name": "stdout"
        },
        {
          "output_type": "stream",
          "text": [
            "/usr/local/lib/python3.7/dist-packages/ipykernel_launcher.py:393: UserWarning: Implicit dimension choice for softmax has been deprecated. Change the call to include dim=X as an argument.\n"
          ],
          "name": "stderr"
        },
        {
          "output_type": "stream",
          "text": [
            "episode: 1020, score: 250.0, epsilon: 0.00\n"
          ],
          "name": "stdout"
        },
        {
          "output_type": "stream",
          "text": [
            "/usr/local/lib/python3.7/dist-packages/ipykernel_launcher.py:393: UserWarning: Implicit dimension choice for softmax has been deprecated. Change the call to include dim=X as an argument.\n"
          ],
          "name": "stderr"
        },
        {
          "output_type": "stream",
          "text": [
            "episode: 1022, score: 100.0, epsilon: 0.00\n"
          ],
          "name": "stdout"
        },
        {
          "output_type": "stream",
          "text": [
            "/usr/local/lib/python3.7/dist-packages/ipykernel_launcher.py:393: UserWarning: Implicit dimension choice for softmax has been deprecated. Change the call to include dim=X as an argument.\n"
          ],
          "name": "stderr"
        },
        {
          "output_type": "stream",
          "text": [
            "episode: 1024, score: 250.0, epsilon: 0.00\n"
          ],
          "name": "stdout"
        },
        {
          "output_type": "stream",
          "text": [
            "/usr/local/lib/python3.7/dist-packages/ipykernel_launcher.py:393: UserWarning: Implicit dimension choice for softmax has been deprecated. Change the call to include dim=X as an argument.\n"
          ],
          "name": "stderr"
        },
        {
          "output_type": "stream",
          "text": [
            "episode: 1026, score: 250.0, epsilon: 0.00\n"
          ],
          "name": "stdout"
        },
        {
          "output_type": "stream",
          "text": [
            "/usr/local/lib/python3.7/dist-packages/ipykernel_launcher.py:393: UserWarning: Implicit dimension choice for softmax has been deprecated. Change the call to include dim=X as an argument.\n"
          ],
          "name": "stderr"
        },
        {
          "output_type": "stream",
          "text": [
            "episode: 1028, score: 700.0, epsilon: 0.00\n"
          ],
          "name": "stdout"
        },
        {
          "output_type": "stream",
          "text": [
            "/usr/local/lib/python3.7/dist-packages/ipykernel_launcher.py:393: UserWarning: Implicit dimension choice for softmax has been deprecated. Change the call to include dim=X as an argument.\n"
          ],
          "name": "stderr"
        },
        {
          "output_type": "stream",
          "text": [
            "episode: 1030, score: 250.0, epsilon: 0.00\n"
          ],
          "name": "stdout"
        },
        {
          "output_type": "stream",
          "text": [
            "/usr/local/lib/python3.7/dist-packages/ipykernel_launcher.py:393: UserWarning: Implicit dimension choice for softmax has been deprecated. Change the call to include dim=X as an argument.\n"
          ],
          "name": "stderr"
        },
        {
          "output_type": "stream",
          "text": [
            "episode: 1032, score: 0.0, epsilon: 0.00\n"
          ],
          "name": "stdout"
        },
        {
          "output_type": "stream",
          "text": [
            "/usr/local/lib/python3.7/dist-packages/ipykernel_launcher.py:393: UserWarning: Implicit dimension choice for softmax has been deprecated. Change the call to include dim=X as an argument.\n"
          ],
          "name": "stderr"
        },
        {
          "output_type": "stream",
          "text": [
            "episode: 1034, score: 250.0, epsilon: 0.00\n"
          ],
          "name": "stdout"
        },
        {
          "output_type": "stream",
          "text": [
            "/usr/local/lib/python3.7/dist-packages/ipykernel_launcher.py:393: UserWarning: Implicit dimension choice for softmax has been deprecated. Change the call to include dim=X as an argument.\n"
          ],
          "name": "stderr"
        },
        {
          "output_type": "stream",
          "text": [
            "episode: 1036, score: 450.0, epsilon: 0.00\n"
          ],
          "name": "stdout"
        },
        {
          "output_type": "stream",
          "text": [
            "/usr/local/lib/python3.7/dist-packages/ipykernel_launcher.py:393: UserWarning: Implicit dimension choice for softmax has been deprecated. Change the call to include dim=X as an argument.\n"
          ],
          "name": "stderr"
        },
        {
          "output_type": "stream",
          "text": [
            "episode: 1038, score: 100.0, epsilon: 0.00\n"
          ],
          "name": "stdout"
        },
        {
          "output_type": "stream",
          "text": [
            "/usr/local/lib/python3.7/dist-packages/ipykernel_launcher.py:393: UserWarning: Implicit dimension choice for softmax has been deprecated. Change the call to include dim=X as an argument.\n"
          ],
          "name": "stderr"
        },
        {
          "output_type": "stream",
          "text": [
            "episode: 1040, score: 0.0, epsilon: 0.00\n"
          ],
          "name": "stdout"
        },
        {
          "output_type": "stream",
          "text": [
            "/usr/local/lib/python3.7/dist-packages/ipykernel_launcher.py:393: UserWarning: Implicit dimension choice for softmax has been deprecated. Change the call to include dim=X as an argument.\n"
          ],
          "name": "stderr"
        },
        {
          "output_type": "stream",
          "text": [
            "episode: 1042, score: 0.0, epsilon: 0.00\n"
          ],
          "name": "stdout"
        },
        {
          "output_type": "stream",
          "text": [
            "/usr/local/lib/python3.7/dist-packages/ipykernel_launcher.py:393: UserWarning: Implicit dimension choice for softmax has been deprecated. Change the call to include dim=X as an argument.\n"
          ],
          "name": "stderr"
        },
        {
          "output_type": "stream",
          "text": [
            "episode: 1044, score: 600.0, epsilon: 0.00\n"
          ],
          "name": "stdout"
        },
        {
          "output_type": "stream",
          "text": [
            "/usr/local/lib/python3.7/dist-packages/ipykernel_launcher.py:393: UserWarning: Implicit dimension choice for softmax has been deprecated. Change the call to include dim=X as an argument.\n"
          ],
          "name": "stderr"
        },
        {
          "output_type": "stream",
          "text": [
            "episode: 1046, score: 600.0, epsilon: 0.00\n"
          ],
          "name": "stdout"
        },
        {
          "output_type": "stream",
          "text": [
            "/usr/local/lib/python3.7/dist-packages/ipykernel_launcher.py:393: UserWarning: Implicit dimension choice for softmax has been deprecated. Change the call to include dim=X as an argument.\n"
          ],
          "name": "stderr"
        },
        {
          "output_type": "stream",
          "text": [
            "episode: 1048, score: 0.0, epsilon: 0.00\n"
          ],
          "name": "stdout"
        },
        {
          "output_type": "stream",
          "text": [
            "/usr/local/lib/python3.7/dist-packages/ipykernel_launcher.py:393: UserWarning: Implicit dimension choice for softmax has been deprecated. Change the call to include dim=X as an argument.\n"
          ],
          "name": "stderr"
        },
        {
          "output_type": "stream",
          "text": [
            "episode: 1050, score: 0.0, epsilon: 0.00\n"
          ],
          "name": "stdout"
        },
        {
          "output_type": "stream",
          "text": [
            "/usr/local/lib/python3.7/dist-packages/ipykernel_launcher.py:393: UserWarning: Implicit dimension choice for softmax has been deprecated. Change the call to include dim=X as an argument.\n"
          ],
          "name": "stderr"
        },
        {
          "output_type": "stream",
          "text": [
            "episode: 1052, score: 250.0, epsilon: 0.00\n"
          ],
          "name": "stdout"
        },
        {
          "output_type": "stream",
          "text": [
            "/usr/local/lib/python3.7/dist-packages/ipykernel_launcher.py:393: UserWarning: Implicit dimension choice for softmax has been deprecated. Change the call to include dim=X as an argument.\n"
          ],
          "name": "stderr"
        },
        {
          "output_type": "stream",
          "text": [
            "episode: 1054, score: 0.0, epsilon: 0.00\n"
          ],
          "name": "stdout"
        },
        {
          "output_type": "error",
          "ename": "KeyboardInterrupt",
          "evalue": "ignored",
          "traceback": [
            "\u001b[0;31m---------------------------------------------------------------------------\u001b[0m",
            "\u001b[0;31mKeyboardInterrupt\u001b[0m                         Traceback (most recent call last)",
            "\u001b[0;32m<ipython-input-3-f661bbf29a8e>\u001b[0m in \u001b[0;36m<module>\u001b[0;34m()\u001b[0m\n\u001b[1;32m     18\u001b[0m \u001b[0;34m\u001b[0m\u001b[0m\n\u001b[1;32m     19\u001b[0m         \u001b[0;32mif\u001b[0m \u001b[0mlen\u001b[0m\u001b[0;34m(\u001b[0m\u001b[0mreplay_buffer\u001b[0m\u001b[0;34m)\u001b[0m \u001b[0;34m>\u001b[0m \u001b[0mreplay_initial\u001b[0m\u001b[0;34m:\u001b[0m\u001b[0;34m\u001b[0m\u001b[0;34m\u001b[0m\u001b[0m\n\u001b[0;32m---> 20\u001b[0;31m             \u001b[0mloss\u001b[0m \u001b[0;34m=\u001b[0m \u001b[0mcompute_td_loss\u001b[0m\u001b[0;34m(\u001b[0m\u001b[0mbatch_size\u001b[0m\u001b[0;34m)\u001b[0m\u001b[0;34m\u001b[0m\u001b[0;34m\u001b[0m\u001b[0m\n\u001b[0m\u001b[1;32m     21\u001b[0m             \u001b[0mlosses\u001b[0m\u001b[0;34m.\u001b[0m\u001b[0mappend\u001b[0m\u001b[0;34m(\u001b[0m\u001b[0mloss\u001b[0m\u001b[0;34m.\u001b[0m\u001b[0mdata\u001b[0m\u001b[0;34m.\u001b[0m\u001b[0mitem\u001b[0m\u001b[0;34m(\u001b[0m\u001b[0;34m)\u001b[0m\u001b[0;34m)\u001b[0m\u001b[0;34m\u001b[0m\u001b[0;34m\u001b[0m\u001b[0m\n\u001b[1;32m     22\u001b[0m \u001b[0;34m\u001b[0m\u001b[0m\n",
            "\u001b[0;32m<ipython-input-1-989b12e8aa4f>\u001b[0m in \u001b[0;36mcompute_td_loss\u001b[0;34m(batch_size)\u001b[0m\n\u001b[1;32m    242\u001b[0m \u001b[0;34m\u001b[0m\u001b[0m\n\u001b[1;32m    243\u001b[0m \u001b[0;32mdef\u001b[0m \u001b[0mcompute_td_loss\u001b[0m\u001b[0;34m(\u001b[0m\u001b[0mbatch_size\u001b[0m\u001b[0;34m)\u001b[0m\u001b[0;34m:\u001b[0m\u001b[0;34m\u001b[0m\u001b[0;34m\u001b[0m\u001b[0m\n\u001b[0;32m--> 244\u001b[0;31m     \u001b[0mstate\u001b[0m\u001b[0;34m,\u001b[0m \u001b[0maction\u001b[0m\u001b[0;34m,\u001b[0m \u001b[0mreward\u001b[0m\u001b[0;34m,\u001b[0m \u001b[0mnext_state\u001b[0m\u001b[0;34m,\u001b[0m \u001b[0mdone\u001b[0m\u001b[0;34m,\u001b[0m \u001b[0mweights\u001b[0m\u001b[0;34m,\u001b[0m \u001b[0mindices\u001b[0m \u001b[0;34m=\u001b[0m \u001b[0mreplay_buffer\u001b[0m\u001b[0;34m.\u001b[0m\u001b[0msample\u001b[0m\u001b[0;34m(\u001b[0m\u001b[0mbatch_size\u001b[0m\u001b[0;34m,\u001b[0m \u001b[0;36m0.4\u001b[0m\u001b[0;34m)\u001b[0m\u001b[0;34m\u001b[0m\u001b[0;34m\u001b[0m\u001b[0m\n\u001b[0m\u001b[1;32m    245\u001b[0m     \u001b[0mstate\u001b[0m      \u001b[0;34m=\u001b[0m \u001b[0mVariable\u001b[0m\u001b[0;34m(\u001b[0m\u001b[0mtorch\u001b[0m\u001b[0;34m.\u001b[0m\u001b[0mFloatTensor\u001b[0m\u001b[0;34m(\u001b[0m\u001b[0mnp\u001b[0m\u001b[0;34m.\u001b[0m\u001b[0mfloat32\u001b[0m\u001b[0;34m(\u001b[0m\u001b[0mstate\u001b[0m\u001b[0;34m)\u001b[0m\u001b[0;34m)\u001b[0m\u001b[0;34m)\u001b[0m\u001b[0;34m.\u001b[0m\u001b[0mto\u001b[0m\u001b[0;34m(\u001b[0m\u001b[0mdevice\u001b[0m\u001b[0;34m)\u001b[0m\u001b[0;34m\u001b[0m\u001b[0;34m\u001b[0m\u001b[0m\n\u001b[1;32m    246\u001b[0m     \u001b[0mnext_state\u001b[0m \u001b[0;34m=\u001b[0m \u001b[0mVariable\u001b[0m\u001b[0;34m(\u001b[0m\u001b[0mtorch\u001b[0m\u001b[0;34m.\u001b[0m\u001b[0mFloatTensor\u001b[0m\u001b[0;34m(\u001b[0m\u001b[0mnp\u001b[0m\u001b[0;34m.\u001b[0m\u001b[0mfloat32\u001b[0m\u001b[0;34m(\u001b[0m\u001b[0mnext_state\u001b[0m\u001b[0;34m)\u001b[0m\u001b[0;34m)\u001b[0m\u001b[0;34m)\u001b[0m\u001b[0;34m.\u001b[0m\u001b[0mto\u001b[0m\u001b[0;34m(\u001b[0m\u001b[0mdevice\u001b[0m\u001b[0;34m)\u001b[0m\u001b[0;34m.\u001b[0m\u001b[0mdetach\u001b[0m\u001b[0;34m(\u001b[0m\u001b[0;34m)\u001b[0m\u001b[0;34m\u001b[0m\u001b[0;34m\u001b[0m\u001b[0m\n",
            "\u001b[0;32m<ipython-input-1-989b12e8aa4f>\u001b[0m in \u001b[0;36msample\u001b[0;34m(self, batch_size, beta)\u001b[0m\n\u001b[1;32m    184\u001b[0m             \u001b[0mweights\u001b[0m\u001b[0;34m.\u001b[0m\u001b[0mappend\u001b[0m\u001b[0;34m(\u001b[0m\u001b[0mweight\u001b[0m \u001b[0;34m/\u001b[0m \u001b[0mmax_weight\u001b[0m\u001b[0;34m)\u001b[0m\u001b[0;34m\u001b[0m\u001b[0;34m\u001b[0m\u001b[0m\n\u001b[1;32m    185\u001b[0m         \u001b[0mweights\u001b[0m \u001b[0;34m=\u001b[0m \u001b[0mnp\u001b[0m\u001b[0;34m.\u001b[0m\u001b[0marray\u001b[0m\u001b[0;34m(\u001b[0m\u001b[0mweights\u001b[0m\u001b[0;34m)\u001b[0m\u001b[0;34m\u001b[0m\u001b[0;34m\u001b[0m\u001b[0m\n\u001b[0;32m--> 186\u001b[0;31m         \u001b[0mencoded_sample\u001b[0m \u001b[0;34m=\u001b[0m \u001b[0mself\u001b[0m\u001b[0;34m.\u001b[0m\u001b[0m_encode_sample\u001b[0m\u001b[0;34m(\u001b[0m\u001b[0midxes\u001b[0m\u001b[0;34m)\u001b[0m\u001b[0;34m\u001b[0m\u001b[0;34m\u001b[0m\u001b[0m\n\u001b[0m\u001b[1;32m    187\u001b[0m         \u001b[0;32mreturn\u001b[0m \u001b[0mtuple\u001b[0m\u001b[0;34m(\u001b[0m\u001b[0mlist\u001b[0m\u001b[0;34m(\u001b[0m\u001b[0mencoded_sample\u001b[0m\u001b[0;34m)\u001b[0m \u001b[0;34m+\u001b[0m \u001b[0;34m[\u001b[0m\u001b[0mweights\u001b[0m\u001b[0;34m,\u001b[0m \u001b[0midxes\u001b[0m\u001b[0;34m]\u001b[0m\u001b[0;34m)\u001b[0m\u001b[0;34m\u001b[0m\u001b[0;34m\u001b[0m\u001b[0m\n\u001b[1;32m    188\u001b[0m \u001b[0;34m\u001b[0m\u001b[0m\n",
            "\u001b[0;32m<ipython-input-1-989b12e8aa4f>\u001b[0m in \u001b[0;36m_encode_sample\u001b[0;34m(self, idxes)\u001b[0m\n\u001b[1;32m    135\u001b[0m             \u001b[0mobses_tp1\u001b[0m\u001b[0;34m.\u001b[0m\u001b[0mappend\u001b[0m\u001b[0;34m(\u001b[0m\u001b[0mnp\u001b[0m\u001b[0;34m.\u001b[0m\u001b[0marray\u001b[0m\u001b[0;34m(\u001b[0m\u001b[0mobs_tp1\u001b[0m\u001b[0;34m,\u001b[0m \u001b[0mcopy\u001b[0m\u001b[0;34m=\u001b[0m\u001b[0;32mFalse\u001b[0m\u001b[0;34m)\u001b[0m\u001b[0;34m)\u001b[0m\u001b[0;34m\u001b[0m\u001b[0;34m\u001b[0m\u001b[0m\n\u001b[1;32m    136\u001b[0m             \u001b[0mdones\u001b[0m\u001b[0;34m.\u001b[0m\u001b[0mappend\u001b[0m\u001b[0;34m(\u001b[0m\u001b[0mdone\u001b[0m\u001b[0;34m)\u001b[0m\u001b[0;34m\u001b[0m\u001b[0;34m\u001b[0m\u001b[0m\n\u001b[0;32m--> 137\u001b[0;31m         \u001b[0;32mreturn\u001b[0m \u001b[0mnp\u001b[0m\u001b[0;34m.\u001b[0m\u001b[0marray\u001b[0m\u001b[0;34m(\u001b[0m\u001b[0mobses_t\u001b[0m\u001b[0;34m)\u001b[0m\u001b[0;34m,\u001b[0m \u001b[0mnp\u001b[0m\u001b[0;34m.\u001b[0m\u001b[0marray\u001b[0m\u001b[0;34m(\u001b[0m\u001b[0mactions\u001b[0m\u001b[0;34m)\u001b[0m\u001b[0;34m,\u001b[0m \u001b[0mnp\u001b[0m\u001b[0;34m.\u001b[0m\u001b[0marray\u001b[0m\u001b[0;34m(\u001b[0m\u001b[0mrewards\u001b[0m\u001b[0;34m)\u001b[0m\u001b[0;34m,\u001b[0m \u001b[0mnp\u001b[0m\u001b[0;34m.\u001b[0m\u001b[0marray\u001b[0m\u001b[0;34m(\u001b[0m\u001b[0mobses_tp1\u001b[0m\u001b[0;34m)\u001b[0m\u001b[0;34m,\u001b[0m \u001b[0mnp\u001b[0m\u001b[0;34m.\u001b[0m\u001b[0marray\u001b[0m\u001b[0;34m(\u001b[0m\u001b[0mdones\u001b[0m\u001b[0;34m)\u001b[0m\u001b[0;34m\u001b[0m\u001b[0;34m\u001b[0m\u001b[0m\n\u001b[0m\u001b[1;32m    138\u001b[0m \u001b[0;34m\u001b[0m\u001b[0m\n\u001b[1;32m    139\u001b[0m     \u001b[0;32mdef\u001b[0m \u001b[0msample\u001b[0m\u001b[0;34m(\u001b[0m\u001b[0mself\u001b[0m\u001b[0;34m,\u001b[0m \u001b[0mbatch_size\u001b[0m\u001b[0;34m)\u001b[0m\u001b[0;34m:\u001b[0m\u001b[0;34m\u001b[0m\u001b[0;34m\u001b[0m\u001b[0m\n",
            "\u001b[0;31mKeyboardInterrupt\u001b[0m: "
          ]
        }
      ]
    },
    {
      "cell_type": "code",
      "metadata": {
        "id": "XfQ9xoqaEHZL"
      },
      "source": [
        "/usr/local/lib/python3.7/dist-packages/ipykernel_launcher.py:393: UserWarning: Implicit dimension choice for softmax has been deprecated. Change the call to include dim=X as an argument.\n",
        "episode: 830, score: 0.0, epsilon: 0.00\n",
        "/usr/local/lib/python3.7/dist-packages/ipykernel_launcher.py:393: UserWarning: Implicit dimension choice for softmax has been deprecated. Change the call to include dim=X as an argument.\n",
        "episode: 832, score: 600.0, epsilon: 0.00\n",
        "/usr/local/lib/python3.7/dist-packages/ipykernel_launcher.py:393: UserWarning: Implicit dimension choice for softmax has been deprecated. Change the call to include dim=X as an argument.\n",
        "episode: 834, score: 0.0, epsilon: 0.00\n",
        "/usr/local/lib/python3.7/dist-packages/ipykernel_launcher.py:393: UserWarning: Implicit dimension choice for softmax has been deprecated. Change the call to include dim=X as an argument.\n",
        "episode: 836, score: 100.0, epsilon: 0.00\n",
        "/usr/local/lib/python3.7/dist-packages/ipykernel_launcher.py:393: UserWarning: Implicit dimension choice for softmax has been deprecated. Change the call to include dim=X as an argument.\n",
        "episode: 838, score: 500.0, epsilon: 0.00\n",
        "/usr/local/lib/python3.7/dist-packages/ipykernel_launcher.py:393: UserWarning: Implicit dimension choice for softmax has been deprecated. Change the call to include dim=X as an argument.\n",
        "episode: 840, score: 500.0, epsilon: 0.00\n",
        "/usr/local/lib/python3.7/dist-packages/ipykernel_launcher.py:393: UserWarning: Implicit dimension choice for softmax has been deprecated. Change the call to include dim=X as an argument.\n",
        "episode: 842, score: 500.0, epsilon: 0.00\n",
        "/usr/local/lib/python3.7/dist-packages/ipykernel_launcher.py:393: UserWarning: Implicit dimension choice for softmax has been deprecated. Change the call to include dim=X as an argument.\n",
        "episode: 844, score: 200.0, epsilon: 0.00\n",
        "/usr/local/lib/python3.7/dist-packages/ipykernel_launcher.py:393: UserWarning: Implicit dimension choice for softmax has been deprecated. Change the call to include dim=X as an argument.\n",
        "episode: 846, score: 0.0, epsilon: 0.00\n",
        "/usr/local/lib/python3.7/dist-packages/ipykernel_launcher.py:393: UserWarning: Implicit dimension choice for softmax has been deprecated. Change the call to include dim=X as an argument.\n",
        "episode: 848, score: 100.0, epsilon: 0.00\n",
        "/usr/local/lib/python3.7/dist-packages/ipykernel_launcher.py:393: UserWarning: Implicit dimension choice for softmax has been deprecated. Change the call to include dim=X as an argument.\n",
        "episode: 850, score: 250.0, epsilon: 0.00\n",
        "/usr/local/lib/python3.7/dist-packages/ipykernel_launcher.py:393: UserWarning: Implicit dimension choice for softmax has been deprecated. Change the call to include dim=X as an argument.\n",
        "episode: 852, score: 0.0, epsilon: 0.00\n",
        "/usr/local/lib/python3.7/dist-packages/ipykernel_launcher.py:393: UserWarning: Implicit dimension choice for softmax has been deprecated. Change the call to include dim=X as an argument.\n",
        "episode: 854, score: 100.0, epsilon: 0.00\n",
        "/usr/local/lib/python3.7/dist-packages/ipykernel_launcher.py:393: UserWarning: Implicit dimension choice for softmax has been deprecated. Change the call to include dim=X as an argument.\n",
        "episode: 856, score: 0.0, epsilon: 0.00\n",
        "/usr/local/lib/python3.7/dist-packages/ipykernel_launcher.py:393: UserWarning: Implicit dimension choice for softmax has been deprecated. Change the call to include dim=X as an argument.\n",
        "episode: 858, score: 100.0, epsilon: 0.00\n",
        "/usr/local/lib/python3.7/dist-packages/ipykernel_launcher.py:393: UserWarning: Implicit dimension choice for softmax has been deprecated. Change the call to include dim=X as an argument.\n",
        "episode: 860, score: 250.0, epsilon: 0.00\n",
        "/usr/local/lib/python3.7/dist-packages/ipykernel_launcher.py:393: UserWarning: Implicit dimension choice for softmax has been deprecated. Change the call to include dim=X as an argument.\n",
        "episode: 862, score: 250.0, epsilon: 0.00\n",
        "/usr/local/lib/python3.7/dist-packages/ipykernel_launcher.py:393: UserWarning: Implicit dimension choice for softmax has been deprecated. Change the call to include dim=X as an argument.\n",
        "episode: 864, score: 0.0, epsilon: 0.00\n",
        "/usr/local/lib/python3.7/dist-packages/ipykernel_launcher.py:393: UserWarning: Implicit dimension choice for softmax has been deprecated. Change the call to include dim=X as an argument.\n",
        "episode: 866, score: 0.0, epsilon: 0.00\n",
        "/usr/local/lib/python3.7/dist-packages/ipykernel_launcher.py:393: UserWarning: Implicit dimension choice for softmax has been deprecated. Change the call to include dim=X as an argument.\n",
        "episode: 868, score: 350.0, epsilon: 0.00\n",
        "/usr/local/lib/python3.7/dist-packages/ipykernel_launcher.py:393: UserWarning: Implicit dimension choice for softmax has been deprecated. Change the call to include dim=X as an argument.\n",
        "episode: 870, score: 0.0, epsilon: 0.00\n",
        "/usr/local/lib/python3.7/dist-packages/ipykernel_launcher.py:393: UserWarning: Implicit dimension choice for softmax has been deprecated. Change the call to include dim=X as an argument.\n",
        "episode: 872, score: 100.0, epsilon: 0.00\n",
        "/usr/local/lib/python3.7/dist-packages/ipykernel_launcher.py:393: UserWarning: Implicit dimension choice for softmax has been deprecated. Change the call to include dim=X as an argument.\n",
        "episode: 874, score: 250.0, epsilon: 0.00\n",
        "/usr/local/lib/python3.7/dist-packages/ipykernel_launcher.py:393: UserWarning: Implicit dimension choice for softmax has been deprecated. Change the call to include dim=X as an argument.\n",
        "episode: 876, score: 0.0, epsilon: 0.00\n",
        "/usr/local/lib/python3.7/dist-packages/ipykernel_launcher.py:393: UserWarning: Implicit dimension choice for softmax has been deprecated. Change the call to include dim=X as an argument.\n",
        "episode: 878, score: 250.0, epsilon: 0.00\n",
        "/usr/local/lib/python3.7/dist-packages/ipykernel_launcher.py:393: UserWarning: Implicit dimension choice for softmax has been deprecated. Change the call to include dim=X as an argument.\n",
        "episode: 880, score: 250.0, epsilon: 0.00\n",
        "/usr/local/lib/python3.7/dist-packages/ipykernel_launcher.py:393: UserWarning: Implicit dimension choice for softmax has been deprecated. Change the call to include dim=X as an argument.\n",
        "episode: 882, score: 0.0, epsilon: 0.00\n",
        "/usr/local/lib/python3.7/dist-packages/ipykernel_launcher.py:393: UserWarning: Implicit dimension choice for softmax has been deprecated. Change the call to include dim=X as an argument.\n",
        "episode: 884, score: 350.0, epsilon: 0.00\n",
        "/usr/local/lib/python3.7/dist-packages/ipykernel_launcher.py:393: UserWarning: Implicit dimension choice for softmax has been deprecated. Change the call to include dim=X as an argument.\n",
        "episode: 886, score: 600.0, epsilon: 0.00\n",
        "/usr/local/lib/python3.7/dist-packages/ipykernel_launcher.py:393: UserWarning: Implicit dimension choice for softmax has been deprecated. Change the call to include dim=X as an argument.\n",
        "episode: 888, score: 100.0, epsilon: 0.00\n",
        "/usr/local/lib/python3.7/dist-packages/ipykernel_launcher.py:393: UserWarning: Implicit dimension choice for softmax has been deprecated. Change the call to include dim=X as an argument.\n",
        "episode: 890, score: 0.0, epsilon: 0.00\n",
        "/usr/local/lib/python3.7/dist-packages/ipykernel_launcher.py:393: UserWarning: Implicit dimension choice for softmax has been deprecated. Change the call to include dim=X as an argument.\n",
        "episode: 892, score: 350.0, epsilon: 0.00\n",
        "/usr/local/lib/python3.7/dist-packages/ipykernel_launcher.py:393: UserWarning: Implicit dimension choice for softmax has been deprecated. Change the call to include dim=X as an argument.\n",
        "episode: 894, score: 250.0, epsilon: 0.00\n",
        "/usr/local/lib/python3.7/dist-packages/ipykernel_launcher.py:393: UserWarning: Implicit dimension choice for softmax has been deprecated. Change the call to include dim=X as an argument.\n",
        "episode: 896, score: 0.0, epsilon: 0.00\n",
        "/usr/local/lib/python3.7/dist-packages/ipykernel_launcher.py:393: UserWarning: Implicit dimension choice for softmax has been deprecated. Change the call to include dim=X as an argument.\n",
        "episode: 898, score: 100.0, epsilon: 0.00\n",
        "/usr/local/lib/python3.7/dist-packages/ipykernel_launcher.py:393: UserWarning: Implicit dimension choice for softmax has been deprecated. Change the call to include dim=X as an argument.\n",
        "marking, episode: 900, score: 250.0, mean_score: 195.77, std_score: 212.92\n",
        "episode: 900, score: 250.0, epsilon: 0.00\n",
        "/usr/local/lib/python3.7/dist-packages/ipykernel_launcher.py:393: UserWarning: Implicit dimension choice for softmax has been deprecated. Change the call to include dim=X as an argument.\n",
        "episode: 902, score: 500.0, epsilon: 0.00\n",
        "/usr/local/lib/python3.7/dist-packages/ipykernel_launcher.py:393: UserWarning: Implicit dimension choice for softmax has been deprecated. Change the call to include dim=X as an argument.\n",
        "episode: 904, score: 0.0, epsilon: 0.00\n",
        "/usr/local/lib/python3.7/dist-packages/ipykernel_launcher.py:393: UserWarning: Implicit dimension choice for softmax has been deprecated. Change the call to include dim=X as an argument.\n",
        "episode: 906, score: 750.0, epsilon: 0.00\n",
        "/usr/local/lib/python3.7/dist-packages/ipykernel_launcher.py:393: UserWarning: Implicit dimension choice for softmax has been deprecated. Change the call to include dim=X as an argument.\n",
        "episode: 908, score: 0.0, epsilon: 0.00\n",
        "/usr/local/lib/python3.7/dist-packages/ipykernel_launcher.py:393: UserWarning: Implicit dimension choice for softmax has been deprecated. Change the call to include dim=X as an argument.\n",
        "episode: 910, score: 0.0, epsilon: 0.00\n",
        "/usr/local/lib/python3.7/dist-packages/ipykernel_launcher.py:393: UserWarning: Implicit dimension choice for softmax has been deprecated. Change the call to include dim=X as an argument.\n",
        "episode: 912, score: 0.0, epsilon: 0.00\n",
        "/usr/local/lib/python3.7/dist-packages/ipykernel_launcher.py:393: UserWarning: Implicit dimension choice for softmax has been deprecated. Change the call to include dim=X as an argument.\n",
        "episode: 914, score: 100.0, epsilon: 0.00\n",
        "/usr/local/lib/python3.7/dist-packages/ipykernel_launcher.py:393: UserWarning: Implicit dimension choice for softmax has been deprecated. Change the call to include dim=X as an argument.\n",
        "episode: 916, score: 250.0, epsilon: 0.00\n",
        "/usr/local/lib/python3.7/dist-packages/ipykernel_launcher.py:393: UserWarning: Implicit dimension choice for softmax has been deprecated. Change the call to include dim=X as an argument.\n",
        "episode: 918, score: 0.0, epsilon: 0.00\n",
        "/usr/local/lib/python3.7/dist-packages/ipykernel_launcher.py:393: UserWarning: Implicit dimension choice for softmax has been deprecated. Change the call to include dim=X as an argument.\n",
        "episode: 920, score: 0.0, epsilon: 0.00\n",
        "/usr/local/lib/python3.7/dist-packages/ipykernel_launcher.py:393: UserWarning: Implicit dimension choice for softmax has been deprecated. Change the call to include dim=X as an argument.\n",
        "episode: 922, score: 0.0, epsilon: 0.00\n",
        "/usr/local/lib/python3.7/dist-packages/ipykernel_launcher.py:393: UserWarning: Implicit dimension choice for softmax has been deprecated. Change the call to include dim=X as an argument.\n",
        "episode: 924, score: 0.0, epsilon: 0.00\n",
        "/usr/local/lib/python3.7/dist-packages/ipykernel_launcher.py:393: UserWarning: Implicit dimension choice for softmax has been deprecated. Change the call to include dim=X as an argument.\n",
        "episode: 926, score: 100.0, epsilon: 0.00\n",
        "/usr/local/lib/python3.7/dist-packages/ipykernel_launcher.py:393: UserWarning: Implicit dimension choice for softmax has been deprecated. Change the call to include dim=X as an argument.\n",
        "episode: 928, score: 100.0, epsilon: 0.00\n",
        "/usr/local/lib/python3.7/dist-packages/ipykernel_launcher.py:393: UserWarning: Implicit dimension choice for softmax has been deprecated. Change the call to include dim=X as an argument.\n",
        "episode: 930, score: 100.0, epsilon: 0.00\n",
        "/usr/local/lib/python3.7/dist-packages/ipykernel_launcher.py:393: UserWarning: Implicit dimension choice for softmax has been deprecated. Change the call to include dim=X as an argument.\n",
        "episode: 932, score: 100.0, epsilon: 0.00\n",
        "/usr/local/lib/python3.7/dist-packages/ipykernel_launcher.py:393: UserWarning: Implicit dimension choice for softmax has been deprecated. Change the call to include dim=X as an argument.\n",
        "episode: 934, score: 0.0, epsilon: 0.00\n",
        "/usr/local/lib/python3.7/dist-packages/ipykernel_launcher.py:393: UserWarning: Implicit dimension choice for softmax has been deprecated. Change the call to include dim=X as an argument.\n",
        "episode: 936, score: 0.0, epsilon: 0.00\n",
        "/usr/local/lib/python3.7/dist-packages/ipykernel_launcher.py:393: UserWarning: Implicit dimension choice for softmax has been deprecated. Change the call to include dim=X as an argument.\n",
        "episode: 938, score: 0.0, epsilon: 0.00\n",
        "/usr/local/lib/python3.7/dist-packages/ipykernel_launcher.py:393: UserWarning: Implicit dimension choice for softmax has been deprecated. Change the call to include dim=X as an argument.\n",
        "episode: 940, score: 0.0, epsilon: 0.00\n",
        "/usr/local/lib/python3.7/dist-packages/ipykernel_launcher.py:393: UserWarning: Implicit dimension choice for softmax has been deprecated. Change the call to include dim=X as an argument.\n",
        "episode: 942, score: 0.0, epsilon: 0.00\n",
        "/usr/local/lib/python3.7/dist-packages/ipykernel_launcher.py:393: UserWarning: Implicit dimension choice for softmax has been deprecated. Change the call to include dim=X as an argument.\n",
        "episode: 944, score: 0.0, epsilon: 0.00\n",
        "/usr/local/lib/python3.7/dist-packages/ipykernel_launcher.py:393: UserWarning: Implicit dimension choice for softmax has been deprecated. Change the call to include dim=X as an argument.\n",
        "episode: 946, score: 700.0, epsilon: 0.00\n",
        "/usr/local/lib/python3.7/dist-packages/ipykernel_launcher.py:393: UserWarning: Implicit dimension choice for softmax has been deprecated. Change the call to include dim=X as an argument.\n",
        "episode: 948, score: 0.0, epsilon: 0.00\n",
        "/usr/local/lib/python3.7/dist-packages/ipykernel_launcher.py:393: UserWarning: Implicit dimension choice for softmax has been deprecated. Change the call to include dim=X as an argument.\n",
        "episode: 950, score: 0.0, epsilon: 0.00\n",
        "/usr/local/lib/python3.7/dist-packages/ipykernel_launcher.py:393: UserWarning: Implicit dimension choice for softmax has been deprecated. Change the call to include dim=X as an argument.\n",
        "episode: 952, score: 250.0, epsilon: 0.00\n",
        "/usr/local/lib/python3.7/dist-packages/ipykernel_launcher.py:393: UserWarning: Implicit dimension choice for softmax has been deprecated. Change the call to include dim=X as an argument.\n",
        "episode: 954, score: 500.0, epsilon: 0.00\n",
        "/usr/local/lib/python3.7/dist-packages/ipykernel_launcher.py:393: UserWarning: Implicit dimension choice for softmax has been deprecated. Change the call to include dim=X as an argument.\n",
        "episode: 956, score: 350.0, epsilon: 0.00\n",
        "/usr/local/lib/python3.7/dist-packages/ipykernel_launcher.py:393: UserWarning: Implicit dimension choice for softmax has been deprecated. Change the call to include dim=X as an argument.\n",
        "episode: 958, score: 100.0, epsilon: 0.00\n",
        "/usr/local/lib/python3.7/dist-packages/ipykernel_launcher.py:393: UserWarning: Implicit dimension choice for softmax has been deprecated. Change the call to include dim=X as an argument.\n",
        "episode: 960, score: 0.0, epsilon: 0.00\n",
        "/usr/local/lib/python3.7/dist-packages/ipykernel_launcher.py:393: UserWarning: Implicit dimension choice for softmax has been deprecated. Change the call to include dim=X as an argument.\n",
        "episode: 962, score: 0.0, epsilon: 0.00\n",
        "/usr/local/lib/python3.7/dist-packages/ipykernel_launcher.py:393: UserWarning: Implicit dimension choice for softmax has been deprecated. Change the call to include dim=X as an argument.\n",
        "episode: 964, score: 100.0, epsilon: 0.00\n",
        "/usr/local/lib/python3.7/dist-packages/ipykernel_launcher.py:393: UserWarning: Implicit dimension choice for softmax has been deprecated. Change the call to include dim=X as an argument.\n",
        "episode: 966, score: 100.0, epsilon: 0.00\n",
        "/usr/local/lib/python3.7/dist-packages/ipykernel_launcher.py:393: UserWarning: Implicit dimension choice for softmax has been deprecated. Change the call to include dim=X as an argument.\n",
        "episode: 968, score: 0.0, epsilon: 0.00\n",
        "/usr/local/lib/python3.7/dist-packages/ipykernel_launcher.py:393: UserWarning: Implicit dimension choice for softmax has been deprecated. Change the call to include dim=X as an argument.\n",
        "episode: 970, score: 0.0, epsilon: 0.00\n",
        "/usr/local/lib/python3.7/dist-packages/ipykernel_launcher.py:393: UserWarning: Implicit dimension choice for softmax has been deprecated. Change the call to include dim=X as an argument.\n",
        "episode: 972, score: 0.0, epsilon: 0.00\n",
        "/usr/local/lib/python3.7/dist-packages/ipykernel_launcher.py:393: UserWarning: Implicit dimension choice for softmax has been deprecated. Change the call to include dim=X as an argument.\n",
        "episode: 974, score: 0.0, epsilon: 0.00\n",
        "/usr/local/lib/python3.7/dist-packages/ipykernel_launcher.py:393: UserWarning: Implicit dimension choice for softmax has been deprecated. Change the call to include dim=X as an argument.\n",
        "episode: 976, score: 0.0, epsilon: 0.00\n",
        "/usr/local/lib/python3.7/dist-packages/ipykernel_launcher.py:393: UserWarning: Implicit dimension choice for softmax has been deprecated. Change the call to include dim=X as an argument.\n",
        "episode: 978, score: 100.0, epsilon: 0.00\n",
        "/usr/local/lib/python3.7/dist-packages/ipykernel_launcher.py:393: UserWarning: Implicit dimension choice for softmax has been deprecated. Change the call to include dim=X as an argument.\n",
        "episode: 980, score: 0.0, epsilon: 0.00\n",
        "/usr/local/lib/python3.7/dist-packages/ipykernel_launcher.py:393: UserWarning: Implicit dimension choice for softmax has been deprecated. Change the call to include dim=X as an argument.\n",
        "episode: 982, score: 0.0, epsilon: 0.00\n",
        "/usr/local/lib/python3.7/dist-packages/ipykernel_launcher.py:393: UserWarning: Implicit dimension choice for softmax has been deprecated. Change the call to include dim=X as an argument.\n",
        "episode: 984, score: 0.0, epsilon: 0.00\n",
        "/usr/local/lib/python3.7/dist-packages/ipykernel_launcher.py:393: UserWarning: Implicit dimension choice for softmax has been deprecated. Change the call to include dim=X as an argument.\n",
        "episode: 986, score: 0.0, epsilon: 0.00\n",
        "/usr/local/lib/python3.7/dist-packages/ipykernel_launcher.py:393: UserWarning: Implicit dimension choice for softmax has been deprecated. Change the call to include dim=X as an argument.\n",
        "episode: 988, score: 250.0, epsilon: 0.00\n",
        "/usr/local/lib/python3.7/dist-packages/ipykernel_launcher.py:393: UserWarning: Implicit dimension choice for softmax has been deprecated. Change the call to include dim=X as an argument.\n",
        "episode: 990, score: 100.0, epsilon: 0.00\n",
        "/usr/local/lib/python3.7/dist-packages/ipykernel_launcher.py:393: UserWarning: Implicit dimension choice for softmax has been deprecated. Change the call to include dim=X as an argument.\n",
        "episode: 992, score: 850.0, epsilon: 0.00\n",
        "/usr/local/lib/python3.7/dist-packages/ipykernel_launcher.py:393: UserWarning: Implicit dimension choice for softmax has been deprecated. Change the call to include dim=X as an argument.\n",
        "episode: 994, score: 0.0, epsilon: 0.00\n",
        "/usr/local/lib/python3.7/dist-packages/ipykernel_launcher.py:393: UserWarning: Implicit dimension choice for softmax has been deprecated. Change the call to include dim=X as an argument.\n",
        "episode: 996, score: 0.0, epsilon: 0.00\n",
        "/usr/local/lib/python3.7/dist-packages/ipykernel_launcher.py:393: UserWarning: Implicit dimension choice for softmax has been deprecated. Change the call to include dim=X as an argument.\n",
        "episode: 998, score: 500.0, epsilon: 0.00\n",
        "/usr/local/lib/python3.7/dist-packages/ipykernel_launcher.py:393: UserWarning: Implicit dimension choice for softmax has been deprecated. Change the call to include dim=X as an argument.\n",
        "marking, episode: 1000, score: 0.0, mean_score: 122.00, std_score: 189.52\n",
        "episode: 1000, score: 0.0, epsilon: 0.00\n",
        "/usr/local/lib/python3.7/dist-packages/ipykernel_launcher.py:393: UserWarning: Implicit dimension choice for softmax has been deprecated. Change the call to include dim=X as an argument.\n",
        "episode: 1002, score: 0.0, epsilon: 0.00\n",
        "/usr/local/lib/python3.7/dist-packages/ipykernel_launcher.py:393: UserWarning: Implicit dimension choice for softmax has been deprecated. Change the call to include dim=X as an argument.\n",
        "episode: 1004, score: 500.0, epsilon: 0.00\n",
        "/usr/local/lib/python3.7/dist-packages/ipykernel_launcher.py:393: UserWarning: Implicit dimension choice for softmax has been deprecated. Change the call to include dim=X as an argument.\n",
        "episode: 1006, score: 500.0, epsilon: 0.00\n",
        "/usr/local/lib/python3.7/dist-packages/ipykernel_launcher.py:393: UserWarning: Implicit dimension choice for softmax has been deprecated. Change the call to include dim=X as an argument.\n",
        "episode: 1008, score: 0.0, epsilon: 0.00\n",
        "/usr/local/lib/python3.7/dist-packages/ipykernel_launcher.py:393: UserWarning: Implicit dimension choice for softmax has been deprecated. Change the call to include dim=X as an argument.\n",
        "episode: 1010, score: 250.0, epsilon: 0.00\n",
        "/usr/local/lib/python3.7/dist-packages/ipykernel_launcher.py:393: UserWarning: Implicit dimension choice for softmax has been deprecated. Change the call to include dim=X as an argument.\n",
        "episode: 1012, score: 200.0, epsilon: 0.00\n",
        "/usr/local/lib/python3.7/dist-packages/ipykernel_launcher.py:393: UserWarning: Implicit dimension choice for softmax has been deprecated. Change the call to include dim=X as an argument.\n",
        "episode: 1014, score: 0.0, epsilon: 0.00\n",
        "/usr/local/lib/python3.7/dist-packages/ipykernel_launcher.py:393: UserWarning: Implicit dimension choice for softmax has been deprecated. Change the call to include dim=X as an argument.\n",
        "episode: 1016, score: 250.0, epsilon: 0.00\n",
        "/usr/local/lib/python3.7/dist-packages/ipykernel_launcher.py:393: UserWarning: Implicit dimension choice for softmax has been deprecated. Change the call to include dim=X as an argument.\n",
        "episode: 1018, score: 350.0, epsilon: 0.00\n",
        "/usr/local/lib/python3.7/dist-packages/ipykernel_launcher.py:393: UserWarning: Implicit dimension choice for softmax has been deprecated. Change the call to include dim=X as an argument.\n",
        "episode: 1020, score: 250.0, epsilon: 0.00\n",
        "/usr/local/lib/python3.7/dist-packages/ipykernel_launcher.py:393: UserWarning: Implicit dimension choice for softmax has been deprecated. Change the call to include dim=X as an argument.\n",
        "episode: 1022, score: 100.0, epsilon: 0.00\n",
        "/usr/local/lib/python3.7/dist-packages/ipykernel_launcher.py:393: UserWarning: Implicit dimension choice for softmax has been deprecated. Change the call to include dim=X as an argument.\n",
        "episode: 1024, score: 250.0, epsilon: 0.00\n",
        "/usr/local/lib/python3.7/dist-packages/ipykernel_launcher.py:393: UserWarning: Implicit dimension choice for softmax has been deprecated. Change the call to include dim=X as an argument.\n",
        "episode: 1026, score: 250.0, epsilon: 0.00\n",
        "/usr/local/lib/python3.7/dist-packages/ipykernel_launcher.py:393: UserWarning: Implicit dimension choice for softmax has been deprecated. Change the call to include dim=X as an argument.\n",
        "episode: 1028, score: 700.0, epsilon: 0.00\n",
        "/usr/local/lib/python3.7/dist-packages/ipykernel_launcher.py:393: UserWarning: Implicit dimension choice for softmax has been deprecated. Change the call to include dim=X as an argument.\n",
        "episode: 1030, score: 250.0, epsilon: 0.00\n",
        "/usr/local/lib/python3.7/dist-packages/ipykernel_launcher.py:393: UserWarning: Implicit dimension choice for softmax has been deprecated. Change the call to include dim=X as an argument.\n",
        "episode: 1032, score: 0.0, epsilon: 0.00\n",
        "/usr/local/lib/python3.7/dist-packages/ipykernel_launcher.py:393: UserWarning: Implicit dimension choice for softmax has been deprecated. Change the call to include dim=X as an argument.\n",
        "episode: 1034, score: 250.0, epsilon: 0.00\n",
        "/usr/local/lib/python3.7/dist-packages/ipykernel_launcher.py:393: UserWarning: Implicit dimension choice for softmax has been deprecated. Change the call to include dim=X as an argument.\n",
        "episode: 1036, score: 450.0, epsilon: 0.00\n",
        "/usr/local/lib/python3.7/dist-packages/ipykernel_launcher.py:393: UserWarning: Implicit dimension choice for softmax has been deprecated. Change the call to include dim=X as an argument.\n",
        "episode: 1038, score: 100.0, epsilon: 0.00\n",
        "/usr/local/lib/python3.7/dist-packages/ipykernel_launcher.py:393: UserWarning: Implicit dimension choice for softmax has been deprecated. Change the call to include dim=X as an argument.\n",
        "episode: 1040, score: 0.0, epsilon: 0.00\n",
        "/usr/local/lib/python3.7/dist-packages/ipykernel_launcher.py:393: UserWarning: Implicit dimension choice for softmax has been deprecated. Change the call to include dim=X as an argument.\n",
        "episode: 1042, score: 0.0, epsilon: 0.00\n",
        "/usr/local/lib/python3.7/dist-packages/ipykernel_launcher.py:393: UserWarning: Implicit dimension choice for softmax has been deprecated. Change the call to include dim=X as an argument.\n",
        "episode: 1044, score: 600.0, epsilon: 0.00\n",
        "/usr/local/lib/python3.7/dist-packages/ipykernel_launcher.py:393: UserWarning: Implicit dimension choice for softmax has been deprecated. Change the call to include dim=X as an argument."
      ],
      "execution_count": null,
      "outputs": []
    }
  ]
}